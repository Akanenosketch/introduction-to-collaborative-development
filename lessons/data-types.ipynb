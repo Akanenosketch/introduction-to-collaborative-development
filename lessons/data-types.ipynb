{
  "cells": [
    {
      "attachments": {},
      "cell_type": "markdown",
      "metadata": {},
      "source": [
        "## Data types: ways to classify information\n",
        "\n",
        "As many other languages, Python has got several built-in data types that can represent information."
      ]
    },
    {
      "attachments": {},
      "cell_type": "markdown",
      "metadata": {
        "id": "e4XETFi_VHlF"
      },
      "source": [
        "## Literals and variables, *literally*\n",
        "\n",
        "- **Literals**: generic values associated to specific symbols or combinations of symbols.\n",
        "- **Variables**: references to values located in the memory of the device that executes the program.\n",
        "\n",
        "In Python, variables are not linked to any specific data type (it does not provide strict typing functionalities), which means that variables can be reassigned to any other data type without raising errors."
      ]
    },
    {
      "cell_type": "code",
      "execution_count": 1,
      "metadata": {
        "colab": {
          "base_uri": "https://localhost:8080/"
        },
        "id": "4GwVDrlQVYfW",
        "outputId": "49755e4c-fe7a-467d-9411-2a812bd32530"
      },
      "outputs": [
        {
          "name": "stdout",
          "output_type": "stream",
          "text": [
            "2\n"
          ]
        }
      ],
      "source": [
        "# These are literals:\n",
        "\n",
        "2\n",
        "12.3\n",
        "\"hello\"\n",
        "\n",
        "# This is a literal assigned to a variable:\n",
        "\n",
        "var = 2\n",
        "\n",
        "# Once the variable is assigned, its value can be accessed by calling it.\n",
        "# The example below passes the variable as argument to the print function:\n",
        "\n",
        "print(var)"
      ]
    },
    {
      "attachments": {},
      "cell_type": "markdown",
      "metadata": {
        "id": "PHk4urEyjaBG"
      },
      "source": [
        "### _Exercise 1: Variable creation_\n",
        "\n",
        "Create a variable named `my_first_variable` that contains value `69`.\n",
        "\n",
        "- [Click here to open the script in the editor](./solutions/exercise_1.py)\n",
        "- Test the script using `Ctrl + Shift + P` > `Tasks: Run Task` > `Test exercise 1`"
      ]
    },
    {
      "attachments": {},
      "cell_type": "markdown",
      "metadata": {
        "id": "QWhQ9lm-MPAX"
      },
      "source": [
        "### _Exercise: Determinación del tipo de dato de una variable_\n",
        "\n",
        "1. Busca información sobre la **función** que te permite pasar como argumento una variable y conocer el tipo de dato que contiene.\n",
        "2. Asocia el valor que devuelve la función a una variable llamada `known`.\n",
        "\n",
        "- [Click here to open the script in the editor](./solutions/exercise_2.py)\n",
        "- Test the script using `Ctrl + Shift + P` > `Tasks: Run Task` > `Test exercise 2`"
      ]
    },
    {
      "cell_type": "code",
      "execution_count": 3,
      "metadata": {
        "id": "YsniH95-Mbw3"
      },
      "outputs": [],
      "source": [
        "# Do not modify this (base data):\n",
        "\n",
        "unknown = \"What am I?\"\n",
        "\n",
        "# Write your code below:\n",
        "\n"
      ]
    },
    {
      "attachments": {},
      "cell_type": "markdown",
      "metadata": {
        "id": "6oOOkT45XuXu"
      },
      "source": [
        "## Non sequential data types\n",
        "\n",
        "**Sequentiality**: capacity of a given data type to define a sequence of values.\n",
        "\n",
        "There are three built-in non sequential data types in Python:\n",
        "- `int`: numeric values without decimals\n",
        "- `float`: numeric values with decimals\n",
        "- `complex`: numeric values with real and imaginary parts"
      ]
    },
    {
      "cell_type": "code",
      "execution_count": 4,
      "metadata": {
        "id": "8tIDwTgtY6r0"
      },
      "outputs": [],
      "source": [
        "# Let's assign non-sequential values to variables:\n",
        "\n",
        "# Integer value:\n",
        "\n",
        "integer_variable = 1\n",
        "\n",
        "# Float value:\n",
        "\n",
        "float_variable = 1.2\n",
        "\n",
        "# Complex value:\n",
        "\n",
        "complex_variable = 1 + 2j"
      ]
    },
    {
      "attachments": {},
      "cell_type": "markdown",
      "metadata": {
        "id": "T06h9c4SnQJ9"
      },
      "source": [
        "### _Exercise: Tipos de datos no secuenciales_\n",
        "\n",
        "Crea dos variables llamadas `var_1` y `var_2` que contengan, respectivamente, el valor de Pi (con cuatro decimales) y el número de horas en un día.\n",
        "\n",
        "En la misma línea de cada variable definida indica, mediante un comentario, el tipo de dato que contiene."
      ]
    },
    {
      "cell_type": "code",
      "execution_count": 5,
      "metadata": {
        "id": "m0OQRNY3oDkW"
      },
      "outputs": [],
      "source": [
        "# Write your answer below:\n",
        "\n"
      ]
    },
    {
      "attachments": {},
      "cell_type": "markdown",
      "metadata": {
        "id": "aQZD0ZaVY7bL"
      },
      "source": [
        "## Tipos de datos secuenciales\n",
        "\n",
        "Los tipos de datos secuenciales básicos en Python abarcan los Strings (`str`), Tuplas (`tuple`), Listas (`list`), Sets (`set`) y Diccionarios (`dict`):\n",
        "\n",
        "* **Strings**: conjuntos ordenados de caracteres.\n",
        "* **Tuplas/Listas**: conjuntos ordenados de elementos.\n",
        "* **Sets**: conjuntos no ordenados de elementos.\n",
        "* **Diccionarios**: conjuntos de elementos relacionados mediante pares clave-valor.\n",
        "\n",
        "_La diferencia entre las tuplas y las listas es que las primeras no permiten modificar sus elementos, mientras que las segundas sí._"
      ]
    },
    {
      "cell_type": "code",
      "execution_count": 6,
      "metadata": {
        "id": "TzUhnhAeYCl-"
      },
      "outputs": [],
      "source": [
        "# Let's assign sequential values to a variable:\n",
        "\n",
        "# String value:\n",
        "\n",
        "string_value = \"Strong string strung in the stream\"\n",
        "\n",
        "# Tuple value:\n",
        "\n",
        "tuple_variable = (1, 2, 3)\n",
        "\n",
        "# List value:\n",
        "\n",
        "list_variable = [1, 2, 3]\n",
        "\n",
        "# Set value:\n",
        "\n",
        "set_variable = {1, 2, 3}\n",
        "\n",
        "# Dictionary value:\n",
        "\n",
        "dictionary_variable = {\n",
        "    \"key_1\": \"value_1\",\n",
        "    \"key_2\": \"value_2\",\n",
        "}"
      ]
    },
    {
      "attachments": {},
      "cell_type": "markdown",
      "metadata": {
        "id": "OnnQ2dKwoNti"
      },
      "source": [
        "### _Exercise: Tipos de datos secuenciales_\n",
        "\n",
        "Crea tres variables (llámalas como quieras) que contengan los siguientes datos:\n",
        "\n",
        "1. Lista con valores del `1` al `5` (incluidos).\n",
        "2. Set con valores del `-2` al `0` (incluidos).\n",
        "3. String con los caracteres `'a'`, `'b'` y `'c'`.\n",
        "4. Lista de las palabras contenidas en la frase `\"I'm learning Python\"`.\n",
        "5. Diccionario que relacione las claves de `\"seconds\"`, `\"minutes\"` y `\"hours\"` con la cantidad de los segundos, minutos y horas que hay en un día (respectivamente)."
      ]
    },
    {
      "cell_type": "code",
      "execution_count": 7,
      "metadata": {
        "id": "jGlGKBt4pRUV"
      },
      "outputs": [],
      "source": [
        "# Write your answer below:\n",
        "\n"
      ]
    },
    {
      "attachments": {},
      "cell_type": "markdown",
      "metadata": {
        "id": "-wLghVJBcgTI"
      },
      "source": [
        "## Data type conversion (type casting)\n",
        "\n",
        "Python allows to change the data type of its elements with some flexibility. Thus, it is possible to convert a `float` into an `int` and vice versa, but (for example) it is not possible to convert a `str` into an `int`."
      ]
    },
    {
      "cell_type": "code",
      "execution_count": 8,
      "metadata": {
        "colab": {
          "base_uri": "https://localhost:8080/"
        },
        "id": "l-OQZayYc23i",
        "outputId": "b838d749-ad90-4d6b-b3c0-45367cf986ec"
      },
      "outputs": [
        {
          "name": "stdout",
          "output_type": "stream",
          "text": [
            "The value of the variable is:  6.9\n",
            "The data type of the variable is:  <class 'float'>\n",
            "The value of the variable is:  6\n",
            "The data type of the variable is:  <class 'int'>\n"
          ]
        }
      ],
      "source": [
        "# This is a float value assigned to a variable:\n",
        "\n",
        "variable = 6.9\n",
        "print(\"The value of the variable is: \", variable)\n",
        "print(\"The data type of the variable is: \", type(variable))\n",
        "\n",
        "# Now, its value is being casted into an integer:\n",
        "\n",
        "variable = int(variable)  # The value will be truncated (not rounded).\n",
        "print(\"The value of the variable is: \", variable)\n",
        "print(\"The data type of the variable is: \", type(variable))"
      ]
    },
    {
      "attachments": {},
      "cell_type": "markdown",
      "metadata": {
        "id": "gyh4tAzSpoSS"
      },
      "source": [
        "### _Exercise: Cambio de tipo de datos (1)_\n",
        "\n",
        "Convierte un `int` cualquiera a un `float` y asigna el resultado a una variable. Seguidamente, convierte un `float` cualquiera a un `int` y asigna el resultado a otra variable distinta.\n",
        "\n",
        "Finalmente, imprime los resultados en pantalla."
      ]
    },
    {
      "cell_type": "code",
      "execution_count": 9,
      "metadata": {
        "id": "L7VuDxdOpnc3"
      },
      "outputs": [],
      "source": [
        "# Write your answer below:\n",
        "\n"
      ]
    },
    {
      "attachments": {},
      "cell_type": "markdown",
      "metadata": {
        "id": "nZiRVHwsrBLL"
      },
      "source": [
        "### _Exercise: Cambio de tipo de datos (2)_\n",
        "\n",
        "Prueba a crear una variable que contenga un `str` e intenta cambiar el tipo de datos de dicha variable a `int`. ¿Qué ocurre?"
      ]
    },
    {
      "cell_type": "code",
      "execution_count": 10,
      "metadata": {
        "id": "hX_DdzpYrEjm"
      },
      "outputs": [],
      "source": [
        "# Write your answer below:\n",
        "\n"
      ]
    },
    {
      "attachments": {},
      "cell_type": "markdown",
      "metadata": {},
      "source": [
        "# Boolean values... true or false?\n",
        "\n",
        "The boolean data type (`bool`) is the one that acts on any Python instruction internally, without anyone noticing.\n",
        "\n",
        "Variants of this data type are the literals `True` and `False`.\n",
        "\n",
        "A curious fact about this data type is that any other data type in Python contains it, implicitly. In other words, any data type in Python can be *casted* to `bool`, as can be seen below:"
      ]
    },
    {
      "cell_type": "code",
      "execution_count": 11,
      "metadata": {
        "colab": {
          "base_uri": "https://localhost:8080/"
        },
        "id": "ic8oWd8Gdo_L",
        "outputId": "a7a3f0d0-b27a-40db-fbee-cb85a4c15ef0"
      },
      "outputs": [
        {
          "name": "stdout",
          "output_type": "stream",
          "text": [
            "Boolean value of True:  True\n",
            "Boolean value of False:  False\n",
            "Boolean value of 1:  True\n",
            "Boolean value of 1.2:  True\n",
            "Boolean value of 1 + 2j: True\n",
            "Boolean value of 'Hello': True\n",
            "Boolean value of (1, 2, 3): True\n",
            "Boolean value of []: False\n",
            "Boolean value of {1, 2, 3}: True\n",
            "Boolean value of {'key_1': 'value_1'}: True\n"
          ]
        }
      ],
      "source": [
        "# Boolean casting for every basic data type in Python:\n",
        "\n",
        "print(\"Boolean value of True: \", bool(True))\n",
        "print(\"Boolean value of False: \", bool(False))\n",
        "\n",
        "print(\"Boolean value of 1: \", bool(1))\n",
        "print(\"Boolean value of 1.2: \", bool(1.2))\n",
        "print(\"Boolean value of 1 + 2j:\", bool(1 + 2j))\n",
        "\n",
        "print(\"Boolean value of 'Hello':\", bool(\"Hello\"))\n",
        "print(\"Boolean value of (1, 2, 3):\", bool((1, 2, 3)))\n",
        "print(\"Boolean value of []:\", bool([]))\n",
        "print(\"Boolean value of {1, 2, 3}:\", bool({1, 2, 3}))\n",
        "print(\"Boolean value of {'key_1': 'value_1'}:\", bool({\"key_1\": \"value_1\"}))"
      ]
    },
    {
      "cell_type": "code",
      "execution_count": 12,
      "metadata": {
        "id": "tYn7pXnRfZbr"
      },
      "outputs": [
        {
          "name": "stdout",
          "output_type": "stream",
          "text": [
            "Boolean value of the boolean type:  True\n",
            "Boolean value of a generic boolean value:  False\n"
          ]
        }
      ],
      "source": [
        "# Wait... what?\n",
        "\n",
        "print(\"Boolean value of the boolean type: \", bool(bool))\n",
        "print(\"Boolean value of a generic boolean value: \", bool(bool()))"
      ]
    },
    {
      "attachments": {},
      "cell_type": "markdown",
      "metadata": {
        "id": "El2v0RFbp_D_"
      },
      "source": [
        "### _Exercise: Booleanos_\n",
        "\n",
        "Crea una serie de variables (mínimo 4, máximo 6) que contengan distintos tipos de datos (los que quieras, con los contenidos que te parezca) e imprime su valor booleano en pantalla.\n",
        "\n",
        "_**Sugerencia**: prueba a crear una lista vacía y una tupla con varios elementos y razona por qué sus valores booleanos son, respectivamente, `False` y `True`._"
      ]
    },
    {
      "cell_type": "code",
      "execution_count": 13,
      "metadata": {
        "id": "-xdxgipCsUmQ"
      },
      "outputs": [],
      "source": [
        "# Write your answer below:\n",
        "\n"
      ]
    },
    {
      "attachments": {},
      "cell_type": "markdown",
      "metadata": {},
      "source": [
        "# Sequential data types: one thing after another\n",
        "\n",
        "Sequential data types are those that allow storage of a sequence of elements. They have got useful methods for accessing, modifying and deleting elements.\n",
        "\n",
        "A revelant question while studying sequential data types is how to access the elements that they contain. In Python, there are two ways of doing so: using indices and using *slices*. The first one is used to access a single element, while the second one is used to access a range of elements."
      ]
    },
    {
      "attachments": {},
      "cell_type": "markdown",
      "metadata": {},
      "source": [
        "## Length of a sequence: your best friend\n",
        "\n",
        "Knowing the length of a sequence is a very useful tool when working with sequential data types, since it allows to know the number of elements that a sequence contains.\n",
        "\n",
        "The length of **any** sequence can be obtained by using the `len()` function, which will be an integer value. Note that if said function is applied to a non-sequential data type, an error will be raised."
      ]
    },
    {
      "cell_type": "code",
      "execution_count": 14,
      "metadata": {},
      "outputs": [
        {
          "name": "stdout",
          "output_type": "stream",
          "text": [
            "Length (amount of characters) of the string:  6\n"
          ]
        }
      ],
      "source": [
        "# This is a string:\n",
        "\n",
        "var = \"Hello!\"\n",
        "\n",
        "# Its length can be determined using the `len` method:\n",
        "\n",
        "print(\"Length (amount of characters) of the string: \", len(var))"
      ]
    },
    {
      "attachments": {},
      "cell_type": "markdown",
      "metadata": {},
      "source": [
        "### Indices\n",
        "\n",
        "Indices are values that can be used to represent a position in a sequence, such as an integer or a string. In Python, indices start at `0` and end at `n-1`, where `n` is the length of the sequence.\n",
        "\n",
        "Let's take a *string* as an example:"
      ]
    },
    {
      "cell_type": "code",
      "execution_count": 15,
      "metadata": {},
      "outputs": [
        {
          "name": "stdout",
          "output_type": "stream",
          "text": [
            "First character of the string:  I\n",
            "Last character of the string:  e\n",
            "Some character in the middle:  s\n",
            "Last character of the string:  e\n",
            "Penultimate character of the string:  c\n",
            "Some character in the middle:  a\n",
            "First character of the string:  I\n"
          ]
        }
      ],
      "source": [
        "var = \"I am a sequence\"\n",
        "\n",
        "# Knowing that indices start at `0` and end at `len(value) - 1`:\n",
        "\n",
        "print(\"First character of the string: \", var[0])\n",
        "print(\"Last character of the string: \", var[len(var) - 1])\n",
        "print(\"Some character in the middle: \", var[7])\n",
        "\n",
        "# Negative indices are supported in Python:\n",
        "\n",
        "print(\"Last character of the string: \", var[-1])\n",
        "print(\"Penultimate character of the string: \", var[-2])\n",
        "print(\"Some character in the middle: \", var[-10])\n",
        "print(\"First character of the string: \", var[-len(var)])"
      ]
    },
    {
      "attachments": {},
      "cell_type": "markdown",
      "metadata": {
        "id": "zfFHvKQufcr_"
      },
      "source": [
        "### Splices\n",
        "\n",
        "Simply put, splices are ranges of indices that allow access to the elements of a sequence. They can be really useful in case you want to extract a specific part of a sequence. They are expressed in a `[start:stop:step]` format, where:\n",
        "\n",
        "- `start` is the index of the first element to be included in the slice. Defaults to `0`.\n",
        "- `stop` is the index of the penultimate element to be included in the slice (the end itself is excluded). Defaults to the length of the sequence.\n",
        "- `step` is the increment between indices. Defaults to `1`.\n",
        "\n",
        "A key point to take into account is that the first index of a slice is included in the result, while the last one is not. Let's take a look at an example:"
      ]
    },
    {
      "cell_type": "code",
      "execution_count": 16,
      "metadata": {},
      "outputs": [
        {
          "name": "stdout",
          "output_type": "stream",
          "text": [
            "Whole string:  I am another sequence\n",
            "First 7 characters:  I am ano\n",
            "Elements in even positions:  Ia nte eune\n",
            "Whole string:  I am another sequence\n",
            "First 7 characters:  I am ano\n",
            "Elements in even positions:  Ia nte eune\n"
          ]
        }
      ],
      "source": [
        "var = \"I am another sequence\"\n",
        "\n",
        "# Examples:\n",
        "\n",
        "print(\"Whole string: \", var[0:len(var)])\n",
        "print(\"First 7 characters: \", var[0:8])  # The last index is not included.\n",
        "print(\"Elements in even positions: \", var[0:len(var):2])\n",
        "\n",
        "# Start, stop and step values can be omitted:\n",
        "\n",
        "print(\"Whole string: \", var[::])\n",
        "print(\"First 7 characters: \", var[:8])\n",
        "print(\"Elements in even positions: \", var[::2])"
      ]
    },
    {
      "attachments": {},
      "cell_type": "markdown",
      "metadata": {},
      "source": [
        "## _Exercise: Reverse string using slices_"
      ]
    },
    {
      "attachments": {},
      "cell_type": "markdown",
      "metadata": {
        "id": "AXBibNILWogP"
      },
      "source": [
        "## Strings\n",
        "\n",
        "Strings are, probably, one of the most versatile data types in Python, right behind booleans. They allow modifications of almost every kind, from changing from uppercase to lowercase to finding regular expressions."
      ]
    },
    {
      "attachments": {},
      "cell_type": "markdown",
      "metadata": {
        "id": "va6GEDSyW_2_"
      },
      "source": [
        "### Methods\n",
        "\n",
        "In order to use the methods of a `str`, it is necessary to create a variable assigned to one. It can also be done using a literal, but it is not very useful, to say the least.\n",
        "\n",
        "The following are some basic modifications of this data type."
      ]
    },
    {
      "cell_type": "code",
      "execution_count": 17,
      "metadata": {
        "id": "OHOh8N3HXKmt"
      },
      "outputs": [
        {
          "name": "stdout",
          "output_type": "stream",
          "text": [
            "Lowercase:  this is definitely not flipped learning\n",
            "Uppercase:  THIS IS DEFINITELY NOT FLIPPED LEARNING\n",
            "Capitalize:  This is definitely not flipped learning\n",
            "Title:  This Is Definitely Not Flipped Learning\n",
            "Swap:  tHIS IS DEFINITELY not fLIPPED lEARNING\n"
          ]
        }
      ],
      "source": [
        "# Basic string manipulation:\n",
        "\n",
        "string = \"This is definitely NOT Flipped Learning\"\n",
        "\n",
        "# Conversion to lowercase:\n",
        "\n",
        "print(\"Lowercase: \", string.lower())\n",
        "\n",
        "# Conversion to uppercase:\n",
        "\n",
        "print(\"Uppercase: \", string.upper())\n",
        "\n",
        "# Capitalize the leading character of the string:\n",
        "\n",
        "print(\"Capitalize: \", string.capitalize())\n",
        "\n",
        "# Capitalize the leading character of the each word in the string:\n",
        "\n",
        "print(\"Title: \", string.title())\n",
        "\n",
        "# Swap upper and lower case characters:\n",
        "\n",
        "print(\"Swap: \", string.swapcase())"
      ]
    },
    {
      "attachments": {},
      "cell_type": "markdown",
      "metadata": {
        "id": "Dm7gkkGnYyZW"
      },
      "source": [
        "Clearly, these operations seem too simple, so it is often useful to know some more complex ones in order to be able to manipulate a text extensively:"
      ]
    },
    {
      "cell_type": "code",
      "execution_count": 18,
      "metadata": {
        "id": "qLunIOy4Y7dP"
      },
      "outputs": [
        {
          "name": "stdout",
          "output_type": "stream",
          "text": [
            "Finding \"sit down\" position:  22\n",
            "Replacing spaces with underscores:  ____Lorem_ipsum_dolor_sit_down_and_pay_attention____\n",
            "Removing leading and trailing whitespace:  Lorem ipsum dolor sit down and pay attention\n"
          ]
        }
      ],
      "source": [
        "# Advanced string manipulation:\n",
        "\n",
        "string = \"    Lorem ipsum dolor sit down and pay attention    \"\n",
        "\n",
        "# Find a substring in the string:\n",
        "\n",
        "print(\"Finding \\\"sit down\\\" position: \", string.find(\"sit down\"))\n",
        "\n",
        "# Replace a substring with another substring:\n",
        "\n",
        "print(\"Replacing spaces with underscores: \", string.replace(' ', '_'))\n",
        "\n",
        "# Removing leading and trailing whitespace in the string:\n",
        "\n",
        "print(\"Removing leading and trailing whitespace: \", string.strip())"
      ]
    },
    {
      "attachments": {},
      "cell_type": "markdown",
      "metadata": {
        "id": "aXINHotfgDpf"
      },
      "source": [
        "## Lists\n",
        "\n",
        "Lists allow concatenating a series of elements, accessing them and modifying them with total freedom, they are **mutable** structures."
      ]
    },
    {
      "attachments": {},
      "cell_type": "markdown",
      "metadata": {
        "id": "QGc7-kF_gJfp"
      },
      "source": [
        "## Methods\n",
        "\n",
        "Again, the list to be manipulated must be associated to a variable in order to be able to make changes to it.\n",
        "\n",
        "Some operations on lists include the following methods:"
      ]
    },
    {
      "cell_type": "code",
      "execution_count": 19,
      "metadata": {
        "id": "HzAZNACagUoJ"
      },
      "outputs": [
        {
          "name": "stdout",
          "output_type": "stream",
          "text": [
            "List length:  4\n",
            "Length of the last item in the list:  2\n",
            "\n",
            "List before append:  [3, 2, 1, ['a', 'b']]\n",
            "List after append:  [3, 2, 1, ['a', 'b'], 'hello']\n",
            "\n",
            "List before extend:  [3, 2, 1, ['a', 'b'], 'hello']\n",
            "List after extend:  [3, 2, 1, ['a', 'b'], 'hello', 'how', 'are', 'you']\n",
            "\n",
            "Base list:  [3, 2, 1, ['a', 'b'], 'hello', 'how', 'are', 'you']\n",
            "Last element removed:  [3, 2, 1, ['a', 'b'], 'hello', 'how', 'are']\n",
            "Middle element removed:  [3, 2, 1, 'hello', 'how', 'are']\n",
            "\n",
            "How many 2s are in the list? There is  1\n",
            "\n",
            "List before reverse:  [3, 2, 1, 'hello', 'how', 'are']\n",
            "List after reverse:  ['are', 'how', 'hello', 1, 2, 3]\n",
            "\n",
            "List before clear:  ['are', 'how', 'hello', 1, 2, 3]\n",
            "List after clear:  []\n"
          ]
        }
      ],
      "source": [
        "# List methods:\n",
        "\n",
        "my_list = [3, 2, 1, ['a', 'b']]\n",
        "\n",
        "# List length:\n",
        "\n",
        "print(\"List length: \", len(my_list))\n",
        "print(\"Length of the last item in the list: \", len(my_list[-1]), end=\"\\n\\n\")\n",
        "\n",
        "# Single item addition:\n",
        "\n",
        "print(\"List before append: \", my_list)\n",
        "my_list.append(\"hello\")\n",
        "print(\"List after append: \", my_list, end=\"\\n\\n\")\n",
        "\n",
        "# Multiple item addition:\n",
        "\n",
        "print(\"List before extend: \", my_list)\n",
        "my_list.extend([\"how\", \"are\", \"you\"])\n",
        "print(\"List after extend: \", my_list, end=\"\\n\\n\")\n",
        "\n",
        "# Item removal:\n",
        "\n",
        "print(\"Base list: \", my_list)\n",
        "my_list.pop()\n",
        "print(\"Last element removed: \", my_list)\n",
        "my_list.pop(len(my_list) // 2)\n",
        "print(\"Middle element removed: \", my_list, end=\"\\n\\n\")\n",
        "\n",
        "# Count number of items in list:\n",
        "\n",
        "print(\"How many 2s are in the list? There is \", my_list.count(2), end=\"\\n\\n\")\n",
        "\n",
        "# Reverse list contents:\n",
        "\n",
        "print(\"List before reverse: \", my_list)\n",
        "my_list.reverse()\n",
        "print(\"List after reverse: \", my_list, end=\"\\n\\n\")\n",
        "\n",
        "# List contents' wipe:\n",
        "\n",
        "print(\"List before clear: \", my_list)\n",
        "my_list.clear()\n",
        "print(\"List after clear: \", my_list)"
      ]
    },
    {
      "attachments": {},
      "cell_type": "markdown",
      "metadata": {
        "id": "X5vDXmythC8x"
      },
      "source": [
        "#### _Exercise: Copia de listas_\n",
        "\n",
        "A partir de una variable llamada `list_1` que contiene una lista, crea otra variable llamdada `list_2` que contenga los elementos de la primera lista (sin copiarlos a mano).\n",
        "\n",
        "*__Aviso__: los elementos de ambas listas deben ser independientes (si se modifica `list_1` no se deberá modificar `list_2`).*"
      ]
    },
    {
      "cell_type": "code",
      "execution_count": 20,
      "metadata": {
        "id": "5291xN6QhlsS"
      },
      "outputs": [
        {
          "ename": "NameError",
          "evalue": "name 'list_2' is not defined",
          "output_type": "error",
          "traceback": [
            "\u001b[1;31m---------------------------------------------------------------------------\u001b[0m",
            "\u001b[1;31mNameError\u001b[0m                                 Traceback (most recent call last)",
            "Cell \u001b[1;32mIn[20], line 11\u001b[0m\n\u001b[0;32m      3\u001b[0m list_1 \u001b[39m=\u001b[39m [\u001b[39m1\u001b[39m, \u001b[39m2\u001b[39m, \u001b[39m3\u001b[39m, \u001b[39m4\u001b[39m, \u001b[39m5\u001b[39m]\n\u001b[0;32m      5\u001b[0m \u001b[39m# Write your code below:\u001b[39;00m\n\u001b[0;32m      6\u001b[0m \n\u001b[0;32m      7\u001b[0m \n\u001b[0;32m      8\u001b[0m \n\u001b[0;32m      9\u001b[0m \u001b[39m# Do not modify this (automatic answer check):\u001b[39;00m\n\u001b[1;32m---> 11\u001b[0m \u001b[39massert\u001b[39;00m list_1 \u001b[39mis\u001b[39;00m \u001b[39mnot\u001b[39;00m list_2, \u001b[39m\"\u001b[39m\u001b[39mError: Lists are not independent.\u001b[39m\u001b[39m\"\u001b[39m\n\u001b[0;32m     12\u001b[0m \u001b[39mprint\u001b[39m(\u001b[39m\"\u001b[39m\u001b[39mOK!\u001b[39m\u001b[39m\"\u001b[39m)\n",
            "\u001b[1;31mNameError\u001b[0m: name 'list_2' is not defined"
          ]
        }
      ],
      "source": [
        "# Do not modify this (base data):\n",
        "\n",
        "list_1 = [1, 2, 3, 4, 5]\n",
        "\n",
        "# Write your code below:\n",
        "\n",
        "\n",
        "\n",
        "# Do not modify this (automatic answer check):\n",
        "\n",
        "assert list_1 is not list_2, \"Error: Lists are not independent.\"\n",
        "print(\"OK!\")"
      ]
    },
    {
      "attachments": {},
      "cell_type": "markdown",
      "metadata": {
        "id": "BBSFyKFQkHwc"
      },
      "source": [
        "#### _Exercise: Ordenación de listas_\n",
        "\n",
        "Dada una lista `list_1`, guarda en la variable `list_2` una copia ordenada (de menor a mayor) e independiente de la primera.\n",
        "\n",
        "_**Sugerencia**: busca el método de las listas que te se ajusta a los requisitos de este ejercicio._"
      ]
    },
    {
      "cell_type": "code",
      "execution_count": null,
      "metadata": {
        "id": "g33o4kPtkUNc"
      },
      "outputs": [],
      "source": [
        "# Do not modify this (base data):\n",
        "\n",
        "list_1 = [5, 3, -1, 2, 3, 0]\n",
        "\n",
        "# Write your code below:\n",
        "\n",
        " \n",
        "\n",
        "# Do not modify this (automatic answer check):\n",
        "\n",
        "assert list_1 is not list_2, \"Error: lists are not independent.\"\n",
        "assert all(list_2[i] <= list_2[i + 1] for i in range(len(list_2) - 1)), \"Error: the list is not sorted.\"\n",
        "print(\"OK!\")"
      ]
    },
    {
      "attachments": {},
      "cell_type": "markdown",
      "metadata": {
        "id": "Ybv_UgZp6SGA"
      },
      "source": [
        "## Tuples\n",
        "\n",
        "Tuples are sequential data types that are highly similar to lists. Their main difference is that lists allow editing the content of their positions, while tuples do not. They are **immutable** structures."
      ]
    },
    {
      "attachments": {},
      "cell_type": "markdown",
      "metadata": {
        "id": "MiHIYdZ96qvQ"
      },
      "source": [
        "## Dictionaries\n",
        "\n",
        "Dictionaries are, as mentioned before, pairs of values. They have got some peculiarities, such as the fact that in case an entry is repeated, its value will be overwritten with the most recent one. There are no repeated entries.\n",
        "\n",
        "It is always important to keep in mind that the data types used as dictionary keys must be immutable, that is, their elements cannot be modified. This is the case of integers, floats, complex numbers, strings and tuples. Lists cannot be used as dictionary keys.\n",
        " \n",
        "The values of a dictionary are not accessible through indices, as it happens with lists, tuples or strings. In this case, between the brackets should go the name of the key related to the value that is wanted to be found."
      ]
    },
    {
      "cell_type": "code",
      "execution_count": null,
      "metadata": {
        "colab": {
          "base_uri": "https://localhost:8080/"
        },
        "id": "0yHek5Dd7CeP",
        "outputId": "0b83779d-ba76-49bd-99ca-c9669ac466fb"
      },
      "outputs": [],
      "source": [
        "# Dictionary access example:\n",
        "\n",
        "# Dictionary definition:\n",
        "\n",
        "my_dict = {\n",
        "    \"key_1\": 1,\n",
        "    \"key_2\": 2,\n",
        "    \"key_3\": 3\n",
        "}\n",
        "\n",
        "# Dictionary access:\n",
        "\n",
        "print(my_dict)\n",
        "print(my_dict[\"key_2\"])"
      ]
    },
    {
      "cell_type": "code",
      "execution_count": null,
      "metadata": {
        "colab": {
          "base_uri": "https://localhost:8080/"
        },
        "id": "XvHSqtTW7eE5",
        "outputId": "1ce4beca-4484-411d-942a-8347433d2815"
      },
      "outputs": [],
      "source": [
        "# Dictionary update example:\n",
        "\n",
        "my_dict = {\n",
        "    \"key_1\": 1,\n",
        "    \"key_2\": 2,\n",
        "    \"key_3\": 3\n",
        "}\n",
        "\n",
        "my_dict[\"key_2\"] = 5  # Updates the value related to the \"key_2\" key.\n",
        "\n",
        "print(my_dict)\n",
        "print(my_dict[\"key_2\"])"
      ]
    },
    {
      "attachments": {},
      "cell_type": "markdown",
      "metadata": {},
      "source": [
        "# Navigation\n",
        "\n",
        "- **Previous lesson**: [Introduction](./introduction.ipynb)\n",
        "- **Next lesson**: [Operators](./operators.ipynb)"
      ]
    }
  ],
  "metadata": {
    "colab": {
      "collapsed_sections": [],
      "provenance": []
    },
    "kernelspec": {
      "display_name": "Python 3",
      "language": "python",
      "name": "python3"
    },
    "language_info": {
      "codemirror_mode": {
        "name": "ipython",
        "version": 3
      },
      "file_extension": ".py",
      "mimetype": "text/x-python",
      "name": "python",
      "nbconvert_exporter": "python",
      "pygments_lexer": "ipython3",
      "version": "3.11.1"
    },
    "vscode": {
      "interpreter": {
        "hash": "5238573367df39f7286bb46f9ff5f08f63a01a80960060ce41e3c79b190280fa"
      }
    }
  },
  "nbformat": 4,
  "nbformat_minor": 0
}
