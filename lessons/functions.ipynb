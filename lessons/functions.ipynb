{
  "cells": [
    {
      "attachments": {},
      "cell_type": "markdown",
      "metadata": {
        "id": "X8qXa-M0Yhjp"
      },
      "source": [
        "# Functions, are they functional?\n",
        "\n",
        "Functions are statement groups that act as black boxes. They can have zero or more inputs and offer a single output. In Python, the output data type of a function is not strict (a same function can return an Integer and a String, for example)."
      ]
    },
    {
      "cell_type": "code",
      "execution_count": null,
      "metadata": {
        "colab": {
          "base_uri": "https://localhost:8080/"
        },
        "id": "5hXAb2ziYxwn",
        "outputId": "4610b365-175d-4f41-8de2-a8d212e0c425"
      },
      "outputs": [],
      "source": [
        "# Function definition:\n",
        "\n",
        "def say_hi():\n",
        "  print(\"Hi!\")\n",
        "\n",
        "# Function call:\n",
        "\n",
        "say_hi()"
      ]
    },
    {
      "attachments": {},
      "cell_type": "markdown",
      "metadata": {},
      "source": [
        "## Arguments\n",
        "\n",
        "Arguments are the values that are passed to a function when it is called. They can be of any type, including other functions.\n",
        "\n",
        "Arguments can be classified in two types, depending on whether they are mandatory or optional:\n",
        "\n",
        "- **Positional arguments**: arguments that must be passed to a function in the same order they are defined. They are represented as a single value (i.e. `1`)\n",
        "- **Keyword (default) arguments**: arguments that can be passed to a function in any order, as long as they are identified by a name. They are defined with a default value that is used if they are not passed to the function. They are represented as a name-value pair (i.e. `name=\"John\"`).\n",
        "\n",
        "**Observation**: positional arguments must be defined before keyword arguments.\n",
        "\n",
        "Furthermore, arguments can be classified in another two types, depending on whether they are fixed or variable:\n",
        "\n",
        "- **Fixed arguments**: arguments that must be passed to a function in a fixed number. They are represented as a tuple of values (i.e. `(1, 2, 3)`)\n",
        "- **Variable arguments**: arguments that can be passed to a function in an indeterminate number. They are represented as a dictionary of name-value pairs (i.e. `{'name': \"John\", 'age': 23}`)"
      ]
    },
    {
      "attachments": {},
      "cell_type": "markdown",
      "metadata": {},
      "source": [
        "### Fixed argument functions\n",
        "\n",
        "Fixed argument functions are functions that require a fixed number of arguments to be passed to them. These arguments can be mandatory or optional."
      ]
    },
    {
      "attachments": {},
      "cell_type": "markdown",
      "metadata": {},
      "source": [
        "#### Positional arguments"
      ]
    },
    {
      "cell_type": "code",
      "execution_count": null,
      "metadata": {},
      "outputs": [
        {
          "name": "stdout",
          "output_type": "stream",
          "text": [
            "Calling function...\n",
            "a:  1\n",
            "b:  2\n",
            "c:  3\n",
            "\n",
            "Calling function...\n",
            "a:  John\n",
            "b:  Doe\n",
            "c:  42\n",
            "\n"
          ]
        }
      ],
      "source": [
        "# Definition with positional arguments:\n",
        "\n",
        "def my_function(a, b, c):\n",
        "    print(\"Calling function...\")\n",
        "    print(\"a: \", a)\n",
        "    print(\"b: \", b)\n",
        "    print(\"c: \", c)\n",
        "    print()\n",
        "  \n",
        "# Function call:\n",
        "\n",
        "my_function(1, 2, 3)\n",
        "my_function(\"John\", \"Doe\", 42)\n",
        "\n",
        "# Attempting to run this function with less or more arguments will result in an error.\n",
        "# Uncomment the following lines to see the error (but remember to comment them again later!):\n",
        "\n",
        "# my_function(1, 2)\n",
        "# my_function(1, 2, 3, 4)"
      ]
    },
    {
      "attachments": {},
      "cell_type": "markdown",
      "metadata": {},
      "source": [
        "#### Keyword (default) arguments"
      ]
    },
    {
      "cell_type": "code",
      "execution_count": null,
      "metadata": {},
      "outputs": [
        {
          "name": "stdout",
          "output_type": "stream",
          "text": [
            "Calling function...\n",
            "a:  default_a\n",
            "b:  default_b\n",
            "c:  default_c\n",
            "\n",
            "Calling function...\n",
            "a:  1\n",
            "b:  default_b\n",
            "c:  default_c\n",
            "\n",
            "Calling function...\n",
            "a:  1\n",
            "b:  2\n",
            "c:  default_c\n",
            "\n",
            "Calling function...\n",
            "a:  1\n",
            "b:  2\n",
            "c:  3\n",
            "\n",
            "Calling function...\n",
            "a:  1\n",
            "b:  2\n",
            "c:  3\n",
            "\n",
            "Calling function...\n",
            "a:  1\n",
            "b:  2\n",
            "c:  3\n",
            "\n"
          ]
        }
      ],
      "source": [
        "# Definition with keyword (default) arguments:\n",
        "\n",
        "def my_function(a=\"default_a\", b=\"default_b\", c=\"default_c\"):\n",
        "    print(\"Calling function...\")\n",
        "    print(\"a: \", a)\n",
        "    print(\"b: \", b)\n",
        "    print(\"c: \", c)\n",
        "    print()\n",
        "  \n",
        "# Function call:\n",
        "\n",
        "my_function()\n",
        "my_function(1)\n",
        "my_function(1, 2)\n",
        "my_function(1, 2, 3)\n",
        "\n",
        "# Attempting to run this function with more arguments will result in an error.\n",
        "# Uncomment the following line to see the error (but remember to comment it again later!):\n",
        "\n",
        "# my_function(1, 2, 3, 4)\n",
        "\n",
        "# Function call with named arguments:\n",
        "\n",
        "my_function(a=1, b=2, c=3)\n",
        "my_function(c=3, b=2, a=1)  # Order does not matter while all arguments are named."
      ]
    },
    {
      "attachments": {},
      "cell_type": "markdown",
      "metadata": {},
      "source": [
        "### Variable argument functions\n",
        "\n",
        "Variable argument functions are functions that can receive an indeterminate number of arguments. These arguments can be variable or keyword."
      ]
    },
    {
      "attachments": {},
      "cell_type": "markdown",
      "metadata": {},
      "source": [
        "#### Positional arguments"
      ]
    },
    {
      "cell_type": "code",
      "execution_count": null,
      "metadata": {},
      "outputs": [
        {
          "name": "stdout",
          "output_type": "stream",
          "text": [
            "Calling my function...\n",
            "Arguments ()\n",
            "Calling my function...\n",
            "Arguments (1,)\n",
            "Calling my function...\n",
            "Arguments (1, 2)\n",
            "Calling my function...\n",
            "Arguments (1, 2, 3)\n"
          ]
        }
      ],
      "source": [
        "# Definition with variable arguments:\n",
        "\n",
        "def my_function(*args):\n",
        "    print(\"Calling my function...\")\n",
        "    print(\"Arguments\", args)\n",
        "  \n",
        "# Function call:\n",
        "\n",
        "my_function()\n",
        "my_function(1)\n",
        "my_function(1, 2)\n",
        "my_function(1, 2, 3)\n",
        "\n",
        "# Attempting to run this function with keyword arguments will result in an error.\n",
        "# Uncomment the following line to see the error (but remember to comment it again later!):\n",
        "\n",
        "# my_function(1, 2, 3, last=4)"
      ]
    },
    {
      "attachments": {},
      "cell_type": "markdown",
      "metadata": {},
      "source": [
        "#### Keyword (default) arguments"
      ]
    },
    {
      "cell_type": "code",
      "execution_count": null,
      "metadata": {},
      "outputs": [
        {
          "name": "stdout",
          "output_type": "stream",
          "text": [
            "Calling my function...\n",
            "Arguments {}\n",
            "Calling my function...\n",
            "Arguments {'name': 'John'}\n",
            "Calling my function...\n",
            "Arguments {'name': 'John', 'age': 30}\n"
          ]
        }
      ],
      "source": [
        "# Definition with keyword arguments:\n",
        "\n",
        "def my_function(**kwargs):\n",
        "    print(\"Calling my function...\")\n",
        "    print(\"Arguments\", kwargs)\n",
        "  \n",
        "# Function call:\n",
        "\n",
        "my_function()\n",
        "my_function(name=\"John\")\n",
        "my_function(name=\"John\", age=30)\n",
        "\n",
        "# Attempting to run this function with variable arguments will result in an error.\n",
        "# Uncomment the following line to see the error (but remember to comment it again later!):\n",
        "\n",
        "# my_function(\"John\", age=30)"
      ]
    },
    {
      "attachments": {},
      "cell_type": "markdown",
      "metadata": {},
      "source": [
        "### Argument precedence\n",
        "\n",
        "Arguments are passed to a function in the following order:\n",
        "\n",
        "1. Mandatory arguments.\n",
        "2. Optional arguments.\n",
        "3. Variable arguments.\n",
        "4. Keyword arguments.\n",
        "\n",
        "Breaking this order will cause an error, as can be observed in the following examples:"
      ]
    },
    {
      "cell_type": "code",
      "execution_count": null,
      "metadata": {},
      "outputs": [
        {
          "ename": "SyntaxError",
          "evalue": "non-default argument follows default argument (1790068308.py, line 1)",
          "output_type": "error",
          "traceback": [
            "\u001b[1;36m  Cell \u001b[1;32mIn[48], line 1\u001b[1;36m\u001b[0m\n\u001b[1;33m    def my_function(name=\"John\", age):\u001b[0m\n\u001b[1;37m                                 ^\u001b[0m\n\u001b[1;31mSyntaxError\u001b[0m\u001b[1;31m:\u001b[0m non-default argument follows default argument\n"
          ]
        }
      ],
      "source": [
        "def my_function(name=\"John\", age):\n",
        "    print(\"Name: \", name, \", age: \", age)"
      ]
    },
    {
      "cell_type": "markdown",
      "metadata": {
        "id": "XxuPAxAHIH82"
      },
      "source": [
        "## Fuciones de argumentos variables\n",
        "\n",
        "Las funciones de argumentos variables contienen un número indeterminado de argumentos, no definidos el la propia función. Este tipo de argumentos aceptan cero o más elementos."
      ]
    },
    {
      "cell_type": "markdown",
      "metadata": {
        "id": "YMZp5or4IP2W"
      },
      "source": [
        "### Argumentos posicionales (positional args)"
      ]
    },
    {
      "cell_type": "code",
      "execution_count": null,
      "metadata": {
        "colab": {
          "base_uri": "https://localhost:8080/"
        },
        "id": "CvpN7WUcMKc1",
        "outputId": "e2b7a31e-5962-4ebb-ff2c-122166d1f2de"
      },
      "outputs": [],
      "source": [
        "# Multiple positional arguments function:\n",
        "\n",
        "def sum_values(*args):\n",
        "  counter = 0\n",
        "  for value in args:\n",
        "    counter += value\n",
        "\n",
        "  return counter\n",
        "\n",
        "print(\"No arguments = \", sum_values())\n",
        "print(\"Arguments 1, 2 = \", sum_values(1, 2))\n",
        "print(\"Arguments 1, 2, 3.14159 = \", sum_values(1, 2, 3.14159))"
      ]
    },
    {
      "attachments": {},
      "cell_type": "markdown",
      "metadata": {
        "id": "3jCEwYLQLcHo"
      },
      "source": [
        "#### _Exercise: Argumentos posicionales únicos y variables_\n",
        "\n",
        "Define una función que tome un argumento posicional y más argumentos variables. El primer argumento debe ser el título de una historia. Cada uno de los demás argumentos debe ser una línea de la historia, por ejemplo:\n",
        "\n",
        "> _Título (argumento posicional único)_\n",
        "\n",
        ">> _Línea 1 (argumento posicional variable 1)_\n",
        "\n",
        ">> _Línea 1 (argumento posicional variable 2)_\n",
        "\n",
        "...\n",
        "\n",
        ">> _Línea n (argumento posicional variable n)_\n",
        "\n",
        "La función debe devolver un String con la estructura descrita y el contenido pasado a la función.\n",
        "\n",
        "_**Sugerencia**: para indentar las líneas de texto puedes utilizar el caracter escapado del tabulador '\\t'. Para separar líneas puedes utilizar el caracter escapado de nueva línea '\\n'._"
      ]
    },
    {
      "cell_type": "code",
      "execution_count": null,
      "metadata": {
        "id": "PuYAJcRlNA7H"
      },
      "outputs": [],
      "source": [
        "# Write your code below:\n",
        "\n"
      ]
    },
    {
      "cell_type": "markdown",
      "metadata": {
        "id": "VXOdCTCPIVAu"
      },
      "source": [
        "### Argumentos clave-valor (keyword args)"
      ]
    },
    {
      "cell_type": "code",
      "execution_count": null,
      "metadata": {
        "colab": {
          "base_uri": "https://localhost:8080/"
        },
        "id": "MLkFtKFlM78U",
        "outputId": "b9f0b70c-fd05-4157-f049-c47bbe263478"
      },
      "outputs": [],
      "source": [
        "# Multiple keyword arguments function:\n",
        "\n",
        "def generate_report(**kwargs):\n",
        "  for key, value in kwargs.items():\n",
        "    print(\"Name: \", key.capitalize(), \"\\tSalary: \", value)\n",
        "\n",
        "generate_report(\n",
        "    lete=0,\n",
        "    ruben=69,\n",
        "    feijoo=1_476_124 \n",
        ")"
      ]
    },
    {
      "cell_type": "markdown",
      "metadata": {
        "id": "n_6EgSf5wVBH"
      },
      "source": [
        "## Strings de documentación (_docstrings_)\n",
        "\n",
        "Los Strings de documentación sirven para indicar qué hace una función en concreto. Permiten utilizar la función estándar `help` para mostrar su documentación en pantalla según se ejecuta el programa.\n",
        "\n",
        "Los _docstrings_ de funciones se sitúan inmediatamente debajo de la línea que define la función (`def ...`). Se inician con tres dobles comillas, al lado de las cuales se indica un resumen (una línea) de lo que hace la función. Tras esa línea se inserta otra en blanco, y posteriormente se procede a realizar una explicación detallada del desarrollo de la función.\n",
        "\n",
        "Veamos como crear una función sencilla con un _docstring_."
      ]
    },
    {
      "cell_type": "code",
      "execution_count": null,
      "metadata": {
        "colab": {
          "base_uri": "https://localhost:8080/"
        },
        "id": "qf0XHWsFwp_n",
        "outputId": "9ca5a634-d44e-47a6-e4ee-5056ae3e804b"
      },
      "outputs": [],
      "source": [
        "# Docstring example:\n",
        "\n",
        "def sum_values(*args):\n",
        "  \"\"\"Sums several values passed as arguments.\n",
        "\n",
        "  This method allows the user to sum up multiple values of data types int and\n",
        "  float. The output is a single value (the combination of all the inputs).\n",
        "  \"\"\"\n",
        "\n",
        "  counter = 0\n",
        "  for value in args:\n",
        "    counter += value\n",
        "\n",
        "  return counter\n",
        "\n",
        "help(sum_values)  # Docstring visualization via `help` method."
      ]
    },
    {
      "attachments": {},
      "cell_type": "markdown",
      "metadata": {},
      "source": [
        "# Navigation\n",
        "\n",
        "- **Previous lesson**: [Iteration structures](./iteration-structures.ipynb)\n",
        "- **Next lesson**: [Classes](./classes.ipynb)"
      ]
    }
  ],
  "metadata": {
    "colab": {
      "collapsed_sections": [],
      "provenance": []
    },
    "kernelspec": {
      "display_name": ".venv",
      "language": "python",
      "name": "python3"
    },
    "language_info": {
      "codemirror_mode": {
        "name": "ipython",
        "version": 3
      },
      "file_extension": ".py",
      "mimetype": "text/x-python",
      "name": "python",
      "nbconvert_exporter": "python",
      "pygments_lexer": "ipython3",
      "version": "3.11.1"
    },
    "vscode": {
      "interpreter": {
        "hash": "edb3f8401898146638121a13b0247bbb0e9c0cce851d580080f4cb1d49fc2b60"
      }
    }
  },
  "nbformat": 4,
  "nbformat_minor": 0
}
