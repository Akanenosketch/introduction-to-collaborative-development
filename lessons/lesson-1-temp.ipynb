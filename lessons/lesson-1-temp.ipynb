{
  "cells": [
    {
      "attachments": {},
      "cell_type": "markdown",
      "metadata": {},
      "source": [
        "# Class 1\n",
        "\n",
        "Welcome to the introduction for the Python Programming course!\n",
        "\n",
        "The course consists on several lessons with an estimated explanation and completion time of about 4 hours per class. It will take you through the fundamental bases of Python programming. Ideally, at the end of the course, a basic-intermediate level of Python programming can be achieved."
      ]
    },
    {
      "attachments": {},
      "cell_type": "markdown",
      "metadata": {
        "id": "fa0IqaRlUL0P"
      },
      "source": [
        "# What is Python?\n",
        "\n",
        "Python is an interpreted, high-level, object-oriented, multi-purpose programming language. It has got a wide variety of applications and functionality extensions."
      ]
    },
    {
      "attachments": {},
      "cell_type": "markdown",
      "metadata": {},
      "source": [
        "## Where to develop and execute Python code?\n",
        "\n",
        "Python can be developed and executed in multiple environments, from a simple notepad and a command line to a full-featured IDE.\n",
        "\n",
        "Following the introduction of this course, it will be assumed that you will use the Visual Studio Code editor for developing and executing Python code."
      ]
    },
    {
      "cell_type": "code",
      "execution_count": 20,
      "metadata": {
        "id": "no-CxxrzUz_O"
      },
      "outputs": [
        {
          "name": "stdout",
          "output_type": "stream",
          "text": [
            "Hello, World!\n"
          ]
        }
      ],
      "source": [
        "# This is a comment. It will not be executed when the program runs.\n",
        "# Comments begin with a hash symbol (#) and continue to the end of the line.\n",
        "# They can be used to explain code statements, but too many comments can be misleading.\n",
        "\n",
        "# Click the \"Run\" button above to execute the code in this cell.\n",
        "# You should see the text \"Hello, World!\" printed to the console.\n",
        "\n",
        "print(\"Hello, World!\")  # This statement prints text to the console."
      ]
    },
    {
      "attachments": {},
      "cell_type": "markdown",
      "metadata": {
        "id": "GAtxOuy2OS5T"
      },
      "source": [
        "## _Exercise: Introduction_\n",
        "\n",
        "TODO"
      ]
    },
    {
      "attachments": {},
      "cell_type": "markdown",
      "metadata": {},
      "source": [
        "## Data types: ways to classify information\n",
        "\n",
        "As many other languages, Python has got several built-in data types that can represent information. We will be studying said types next."
      ]
    },
    {
      "attachments": {},
      "cell_type": "markdown",
      "metadata": {
        "id": "e4XETFi_VHlF"
      },
      "source": [
        "## Literals and variables, literally\n",
        "\n",
        "- **Literals**: generic values associated to specific symbols or combinations of symbols.\n",
        "- **Variables**: references to values located in the memory of the device that executes the program.\n",
        "\n",
        "In Python, variables are not linked to any specific data type (it does not provide strict typing functionalities), which means that variables can be reassigned to any other data type without raising errors."
      ]
    },
    {
      "cell_type": "code",
      "execution_count": null,
      "metadata": {
        "colab": {
          "base_uri": "https://localhost:8080/"
        },
        "id": "4GwVDrlQVYfW",
        "outputId": "49755e4c-fe7a-467d-9411-2a812bd32530"
      },
      "outputs": [],
      "source": [
        "# This is a literal:\n",
        "\n",
        "2\n",
        "\n",
        "# This is a literal assigned to a variable:\n",
        "\n",
        "variable_1 = 2\n",
        "\n",
        "# Now, you can print the value of the variable on-screen:\n",
        "\n",
        "print(variable_1)"
      ]
    },
    {
      "attachments": {},
      "cell_type": "markdown",
      "metadata": {
        "id": "PHk4urEyjaBG"
      },
      "source": [
        "### _Exercise: Variable creation_\n",
        "\n",
        "Crea una variable llamada `my_first_variable` que contenga el valor `69`."
      ]
    },
    {
      "cell_type": "code",
      "execution_count": null,
      "metadata": {
        "id": "jA5t7pYcjqAJ"
      },
      "outputs": [],
      "source": [
        "# Write your answer below:\n",
        "\n"
      ]
    },
    {
      "attachments": {},
      "cell_type": "markdown",
      "metadata": {
        "id": "QWhQ9lm-MPAX"
      },
      "source": [
        "### _Exercise: Determinación del tipo de dato de una variable_\n",
        "\n",
        "Busca información sobre la **función** que te permite pasar como argumento una variable y conocer el tipo de dato que contiene.\n",
        "\n",
        "Muestra en pantalla el tipo de dato de la variable `unknown`."
      ]
    },
    {
      "cell_type": "code",
      "execution_count": null,
      "metadata": {
        "id": "YsniH95-Mbw3"
      },
      "outputs": [],
      "source": [
        "# Do not modify this (base data):\n",
        "\n",
        "unknown = \"What am I?\"\n",
        "\n",
        "# Write your code below:\n",
        "\n"
      ]
    },
    {
      "attachments": {},
      "cell_type": "markdown",
      "metadata": {
        "id": "6oOOkT45XuXu"
      },
      "source": [
        "## Non sequential data types\n",
        "\n",
        "**Sequentiality**: capacity of a given data type to define a sequence of values.\n",
        "\n",
        "There are three built-in non sequential data types in Python:\n",
        "- `int`: numeric values without decimals\n",
        "- `float`: numeric values with decimals\n",
        "- `complex`: numeric values with real and imaginary parts"
      ]
    },
    {
      "cell_type": "code",
      "execution_count": null,
      "metadata": {
        "id": "8tIDwTgtY6r0"
      },
      "outputs": [],
      "source": [
        "# Let's assign non-sequential values to variables:\n",
        "\n",
        "# Integer value:\n",
        "\n",
        "integer_variable = 1\n",
        "\n",
        "# Float value:\n",
        "\n",
        "float_variable = 1.2\n",
        "\n",
        "# Complex value:\n",
        "\n",
        "complex_variable = 1 + 2j"
      ]
    },
    {
      "attachments": {},
      "cell_type": "markdown",
      "metadata": {
        "id": "T06h9c4SnQJ9"
      },
      "source": [
        "### _Exercise: Tipos de datos no secuenciales_\n",
        "\n",
        "Crea dos variables llamadas `var_1` y `var_2` que contengan, respectivamente, el valor de Pi (con cuatro decimales) y el número de horas en un día.\n",
        "\n",
        "En la misma línea de cada variable definida indica, mediante un comentario, el tipo de dato que contiene."
      ]
    },
    {
      "cell_type": "code",
      "execution_count": null,
      "metadata": {
        "id": "m0OQRNY3oDkW"
      },
      "outputs": [],
      "source": [
        "# Write your answer below:\n",
        "\n"
      ]
    },
    {
      "attachments": {},
      "cell_type": "markdown",
      "metadata": {
        "id": "aQZD0ZaVY7bL"
      },
      "source": [
        "## Tipos de datos secuenciales\n",
        "\n",
        "Los tipos de datos secuenciales básicos en Python abarcan los Strings (`str`), Tuplas (`tuple`), Listas (`list`), Sets (`set`) y Diccionarios (`dict`):\n",
        "\n",
        "* **Strings**: conjuntos ordenados de caracteres.\n",
        "* **Tuplas/Listas**: conjuntos ordenados de elementos.\n",
        "* **Sets**: conjuntos no ordenados de elementos.\n",
        "* **Diccionarios**: conjuntos de elementos relacionados mediante pares clave-valor.\n",
        "\n",
        "_La diferencia entre las tuplas y las listas es que las primeras no permiten modificar sus elementos, mientras que las segundas sí._"
      ]
    },
    {
      "cell_type": "code",
      "execution_count": null,
      "metadata": {
        "id": "TzUhnhAeYCl-"
      },
      "outputs": [],
      "source": [
        "# Let's assign sequential values to a variable:\n",
        "\n",
        "# String value:\n",
        "\n",
        "string_value = \"Strong string strung in the stream\"\n",
        "\n",
        "# Tuple value:\n",
        "\n",
        "tuple_variable = (1, 2, 3)\n",
        "\n",
        "# List value:\n",
        "\n",
        "list_variable = [1, 2, 3]\n",
        "\n",
        "# Set value:\n",
        "\n",
        "set_variable = {1, 2, 3}\n",
        "\n",
        "# Dictionary value:\n",
        "\n",
        "dictionary_variable = {\n",
        "    \"key_1\": \"value_1\",\n",
        "    \"key_2\": \"value_2\",\n",
        "}"
      ]
    },
    {
      "attachments": {},
      "cell_type": "markdown",
      "metadata": {
        "id": "OnnQ2dKwoNti"
      },
      "source": [
        "### _Exercise: Tipos de datos secuenciales_\n",
        "\n",
        "Crea tres variables (llámalas como quieras) que contengan los siguientes datos:\n",
        "\n",
        "1. Lista con valores del `1` al `5` (incluidos).\n",
        "2. Set con valores del `-2` al `0` (incluidos).\n",
        "3. String con los caracteres `'a'`, `'b'` y `'c'`.\n",
        "4. Lista de las palabras contenidas en la frase `\"I'm learning Python\"`.\n",
        "5. Diccionario que relacione las claves de `\"seconds\"`, `\"minutes\"` y `\"hours\"` con la cantidad de los segundos, minutos y horas que hay en un día (respectivamente)."
      ]
    },
    {
      "cell_type": "code",
      "execution_count": null,
      "metadata": {
        "id": "jGlGKBt4pRUV"
      },
      "outputs": [],
      "source": [
        "# Write your answer below:\n",
        "\n"
      ]
    },
    {
      "attachments": {},
      "cell_type": "markdown",
      "metadata": {
        "id": "-wLghVJBcgTI"
      },
      "source": [
        "## Data type conversion (type casting)\n",
        "\n",
        "Python allows to change the data type of its elements with some flexibility. Thus, it is possible to convert a `float` into an `int` and vice versa, but (for example) it is not possible to convert a `str` into an `int`."
      ]
    },
    {
      "cell_type": "code",
      "execution_count": null,
      "metadata": {
        "colab": {
          "base_uri": "https://localhost:8080/"
        },
        "id": "l-OQZayYc23i",
        "outputId": "b838d749-ad90-4d6b-b3c0-45367cf986ec"
      },
      "outputs": [],
      "source": [
        "# This is a float value assigned to a variable:\n",
        "\n",
        "variable = 6.9\n",
        "print(\"The value of the variable is: \", variable)\n",
        "print(\"The data type of the variable is: \", type(variable))\n",
        "\n",
        "# Now, its value is being casted into an integer:\n",
        "\n",
        "variable = int(variable)  # The value will be truncated (not rounded).\n",
        "print(\"The value of the variable is: \", variable)\n",
        "print(\"The data type of the variable is: \", type(variable))"
      ]
    },
    {
      "attachments": {},
      "cell_type": "markdown",
      "metadata": {
        "id": "gyh4tAzSpoSS"
      },
      "source": [
        "### _Exercise: Cambio de tipo de datos (1)_\n",
        "\n",
        "Convierte un `int` cualquiera a un `float` y asigna el resultado a una variable. Seguidamente, convierte un `float` cualquiera a un `int` y asigna el resultado a otra variable distinta.\n",
        "\n",
        "Finalmente, imprime los resultados en pantalla."
      ]
    },
    {
      "cell_type": "code",
      "execution_count": null,
      "metadata": {
        "id": "L7VuDxdOpnc3"
      },
      "outputs": [],
      "source": [
        "# Write your answer below:\n",
        "\n"
      ]
    },
    {
      "attachments": {},
      "cell_type": "markdown",
      "metadata": {
        "id": "nZiRVHwsrBLL"
      },
      "source": [
        "### _Exercise: Cambio de tipo de datos (2)_\n",
        "\n",
        "Prueba a crear una variable que contenga un `str` e intenta cambiar el tipo de datos de dicha variable a `int`. ¿Qué ocurre?"
      ]
    },
    {
      "cell_type": "code",
      "execution_count": null,
      "metadata": {
        "id": "hX_DdzpYrEjm"
      },
      "outputs": [],
      "source": [
        "# Write your answer below:\n",
        "\n"
      ]
    },
    {
      "attachments": {},
      "cell_type": "markdown",
      "metadata": {},
      "source": [
        "# Boolean values... true or false?\n",
        "\n",
        "The boolean data type (`bool`) is the one that acts on any Python instruction internally, without anyone noticing.\n",
        "\n",
        "Variants of this data type are the literals `True` and `False`.\n",
        "\n",
        "A curious fact about this data type is that any other data type in Python contains it, implicitly. In other words, any data type in Python can be *casted* to `bool`, as can be seen below:"
      ]
    },
    {
      "cell_type": "code",
      "execution_count": null,
      "metadata": {
        "colab": {
          "base_uri": "https://localhost:8080/"
        },
        "id": "ic8oWd8Gdo_L",
        "outputId": "a7a3f0d0-b27a-40db-fbee-cb85a4c15ef0"
      },
      "outputs": [],
      "source": [
        "# Boolean casting for every basic data type in Python:\n",
        "\n",
        "print(\"Boolean value of True: \", bool(True))\n",
        "print(\"Boolean value of False: \", bool(False))\n",
        "\n",
        "print(\"Boolean value of 1: \", bool(1))\n",
        "print(\"Boolean value of 1.2: \", bool(1.2))\n",
        "print(\"Boolean value of 1 + 2j:\", bool(1 + 2j))\n",
        "\n",
        "print(\"Boolean value of 'Hello':\", bool(\"Hello\"))\n",
        "print(\"Boolean value of (1, 2, 3):\", bool((1, 2, 3)))\n",
        "print(\"Boolean value of []:\", bool([]))\n",
        "print(\"Boolean value of {1, 2, 3}:\", bool({1, 2, 3}))\n",
        "print(\"Boolean value of {'key_1': 'value_1'}:\", bool({\"key_1\": \"value_1\"}))"
      ]
    },
    {
      "cell_type": "code",
      "execution_count": null,
      "metadata": {
        "id": "tYn7pXnRfZbr"
      },
      "outputs": [],
      "source": [
        "# Wait... what?\n",
        "\n",
        "print(\"Boolean value of the boolean type: \", bool(bool))\n",
        "print(\"Boolean value of a generic boolean value: \", bool(bool()))"
      ]
    },
    {
      "attachments": {},
      "cell_type": "markdown",
      "metadata": {
        "id": "El2v0RFbp_D_"
      },
      "source": [
        "### _Exercise: Booleanos_\n",
        "\n",
        "Crea una serie de variables (mínimo 4, máximo 6) que contengan distintos tipos de datos (los que quieras, con los contenidos que te parezca) e imprime su valor booleano en pantalla.\n",
        "\n",
        "_**Sugerencia**: prueba a crear una lista vacía y una tupla con varios elementos y razona por qué sus valores booleanos son, respectivamente, `False` y `True`._"
      ]
    },
    {
      "cell_type": "code",
      "execution_count": null,
      "metadata": {
        "id": "-xdxgipCsUmQ"
      },
      "outputs": [],
      "source": [
        "# Write your answer below:\n",
        "\n"
      ]
    },
    {
      "attachments": {},
      "cell_type": "markdown",
      "metadata": {},
      "source": [
        "# Sequential data types: one thing after another\n",
        "\n",
        "Sequential data types are those that allow storage of a sequence of elements. They have got useful methods for accessing, modifying and deleting elements.\n",
        "\n",
        "A revelant question while studying sequential data types is how to access the elements that they contain. In Python, there are two ways of doing so: using indices and using *slices*. The first one is used to access a single element, while the second one is used to access a range of elements."
      ]
    },
    {
      "attachments": {},
      "cell_type": "markdown",
      "metadata": {},
      "source": [
        "## Length of a sequence: your best friend\n",
        "\n",
        "Knowing the length of a sequence is a very useful tool when working with sequential data types, since it allows to know the number of elements that a sequence contains.\n",
        "\n",
        "The length of **any** sequence can be obtained by using the `len()` function, which will be an integer value. Note that if said function is applied to a non-sequential data type, an error will be raised."
      ]
    },
    {
      "cell_type": "code",
      "execution_count": 22,
      "metadata": {},
      "outputs": [
        {
          "name": "stdout",
          "output_type": "stream",
          "text": [
            "Length (amount of characters) of the string:  6\n"
          ]
        }
      ],
      "source": [
        "# This is a string:\n",
        "\n",
        "var = \"Hello!\"\n",
        "\n",
        "# Its length can be determined using the `len` method:\n",
        "\n",
        "print(\"Length (amount of characters) of the string: \", len(var))"
      ]
    },
    {
      "attachments": {},
      "cell_type": "markdown",
      "metadata": {},
      "source": [
        "### Indices\n",
        "\n",
        "Indices are values that can be used to represent a position in a sequence, such as an integer or a string. In Python, indices start at `0` and end at `n-1`, where `n` is the length of the sequence.\n",
        "\n",
        "Let's take a *string* as an example:"
      ]
    },
    {
      "cell_type": "code",
      "execution_count": 25,
      "metadata": {},
      "outputs": [
        {
          "name": "stdout",
          "output_type": "stream",
          "text": [
            "First character of the string:  I\n",
            "Last character of the string:  e\n",
            "Some character in the middle:  s\n",
            "Last character of the string:  e\n",
            "Penultimate character of the string:  c\n",
            "Some character in the middle:  a\n",
            "First character of the string:  I\n"
          ]
        }
      ],
      "source": [
        "var = \"I am a sequence\"\n",
        "\n",
        "# Knowing that indices start at `0` and end at `len(value) - 1`:\n",
        "\n",
        "print(\"First character of the string: \", var[0])\n",
        "print(\"Last character of the string: \", var[len(var) - 1])\n",
        "print(\"Some character in the middle: \", var[7])\n",
        "\n",
        "# Negative indices are supported in Python:\n",
        "\n",
        "print(\"Last character of the string: \", var[-1])\n",
        "print(\"Penultimate character of the string: \", var[-2])\n",
        "print(\"Some character in the middle: \", var[-10])\n",
        "print(\"First character of the string: \", var[-len(var)])"
      ]
    },
    {
      "attachments": {},
      "cell_type": "markdown",
      "metadata": {
        "id": "zfFHvKQufcr_"
      },
      "source": [
        "### Splices\n",
        "\n",
        "Simply put, splices are ranges of indices that allow access to the elements of a sequence. They can be really useful in case you want to extract a specific part of a sequence. They are expressed in a `[start:stop:step]` format, where:\n",
        "\n",
        "- `start` is the index of the first element to be included in the slice. Defaults to `0`.\n",
        "- `stop` is the index of the penultimate element to be included in the slice (the end itself is excluded). Defaults to the length of the sequence.\n",
        "- `step` is the increment between indices. Defaults to `1`.\n",
        "\n",
        "A key point to take into account is that the first index of a slice is included in the result, while the last one is not. Let's take a look at an example:"
      ]
    },
    {
      "cell_type": "code",
      "execution_count": 14,
      "metadata": {},
      "outputs": [
        {
          "name": "stdout",
          "output_type": "stream",
          "text": [
            "Whole string:  I am another sequence\n",
            "First 7 characters:  I am ano\n",
            "Elements in even positions:  Ia nte eune\n",
            "Whole string:  I am another sequence\n",
            "First 7 characters:  I am ano\n",
            "Elements in even positions:  Ia nte eune\n"
          ]
        }
      ],
      "source": [
        "var = \"I am another sequence\"\n",
        "\n",
        "# Examples:\n",
        "\n",
        "print(\"Whole string: \", var[0:len(var)])\n",
        "print(\"First 7 characters: \", var[0:8])  # The last index is not included.\n",
        "print(\"Elements in even positions: \", var[0:len(var):2])\n",
        "\n",
        "# Start, stop and step values can be omitted:\n",
        "\n",
        "print(\"Whole string: \", var[::])\n",
        "print(\"First 7 characters: \", var[:8])\n",
        "print(\"Elements in even positions: \", var[::2])"
      ]
    },
    {
      "attachments": {},
      "cell_type": "markdown",
      "metadata": {},
      "source": [
        "## _Exercise: Reverse string using slices_"
      ]
    },
    {
      "attachments": {},
      "cell_type": "markdown",
      "metadata": {
        "id": "AXBibNILWogP"
      },
      "source": [
        "## Strings\n",
        "\n",
        "Strings are, probably, one of the most versatile data types in Python, right behind booleans. They allow modifications of almost every kind, from changing from uppercase to lowercase to finding regular expressions."
      ]
    },
    {
      "attachments": {},
      "cell_type": "markdown",
      "metadata": {
        "id": "va6GEDSyW_2_"
      },
      "source": [
        "### Methods\n",
        "\n",
        "In order to use the methods of a `str`, it is necessary to create a variable assigned to one. It can also be done using a literal, but it is not very useful, to say the least.\n",
        "\n",
        "The following are some basic modifications of this data type."
      ]
    },
    {
      "cell_type": "code",
      "execution_count": 15,
      "metadata": {
        "id": "OHOh8N3HXKmt"
      },
      "outputs": [
        {
          "name": "stdout",
          "output_type": "stream",
          "text": [
            "Lowercase:  this is definitely not flipped learning\n",
            "Uppercase:  THIS IS DEFINITELY NOT FLIPPED LEARNING\n",
            "Capitalize:  This is definitely not flipped learning\n",
            "Title:  This Is Definitely Not Flipped Learning\n",
            "Swap:  tHIS IS DEFINITELY not fLIPPED lEARNING\n"
          ]
        }
      ],
      "source": [
        "# Basic string manipulation:\n",
        "\n",
        "string = \"This is definitely NOT Flipped Learning\"\n",
        "\n",
        "# Conversion to lowercase:\n",
        "\n",
        "print(\"Lowercase: \", string.lower())\n",
        "\n",
        "# Conversion to uppercase:\n",
        "\n",
        "print(\"Uppercase: \", string.upper())\n",
        "\n",
        "# Capitalize the leading character of the string:\n",
        "\n",
        "print(\"Capitalize: \", string.capitalize())\n",
        "\n",
        "# Capitalize the leading character of the each word in the string:\n",
        "\n",
        "print(\"Title: \", string.title())\n",
        "\n",
        "# Swap upper and lower case characters:\n",
        "\n",
        "print(\"Swap: \", string.swapcase())"
      ]
    },
    {
      "attachments": {},
      "cell_type": "markdown",
      "metadata": {
        "id": "Dm7gkkGnYyZW"
      },
      "source": [
        "Clearly, these operations seem too simple, so it is often useful to know some more complex ones in order to be able to manipulate a text extensively:"
      ]
    },
    {
      "cell_type": "code",
      "execution_count": 19,
      "metadata": {
        "id": "qLunIOy4Y7dP"
      },
      "outputs": [
        {
          "name": "stdout",
          "output_type": "stream",
          "text": [
            "Finding \"sit down\" position:  22\n",
            "Replacing spaces with underscores:  ____Lorem_ipsum_dolor_sit_down_and_pay_attention____\n",
            "Removing leading and trailing whitespace:  Lorem ipsum dolor sit down and pay attention\n"
          ]
        }
      ],
      "source": [
        "# Advanced string manipulation:\n",
        "\n",
        "string = \"    Lorem ipsum dolor sit down and pay attention    \"\n",
        "\n",
        "# Find a substring in the string:\n",
        "\n",
        "print(\"Finding \\\"sit down\\\" position: \", string.find(\"sit down\"))\n",
        "\n",
        "# Replace a substring with another substring:\n",
        "\n",
        "print(\"Replacing spaces with underscores: \", string.replace(' ', '_'))\n",
        "\n",
        "# Removing leading and trailing whitespace in the string:\n",
        "\n",
        "print(\"Removing leading and trailing whitespace: \", string.strip())"
      ]
    },
    {
      "attachments": {},
      "cell_type": "markdown",
      "metadata": {
        "id": "aXINHotfgDpf"
      },
      "source": [
        "## Lists\n",
        "\n",
        "Lists allow concatenating a series of elements, accessing them and modifying them with total freedom, they are **mutable** structures."
      ]
    },
    {
      "attachments": {},
      "cell_type": "markdown",
      "metadata": {
        "id": "QGc7-kF_gJfp"
      },
      "source": [
        "## Methods\n",
        "\n",
        "Again, the list to be manipulated must be associated to a variable in order to be able to make changes to it.\n",
        "\n",
        "Some operations on lists include the following methods:"
      ]
    },
    {
      "cell_type": "code",
      "execution_count": 9,
      "metadata": {
        "id": "HzAZNACagUoJ"
      },
      "outputs": [
        {
          "name": "stdout",
          "output_type": "stream",
          "text": [
            "List length:  4\n",
            "Length of the last item in the list:  2\n",
            "\n",
            "List before append:  [3, 2, 1, ['a', 'b']]\n",
            "List after append:  [3, 2, 1, ['a', 'b'], 'hello']\n",
            "\n",
            "List before extend:  [3, 2, 1, ['a', 'b'], 'hello']\n",
            "List after extend:  [3, 2, 1, ['a', 'b'], 'hello', 'how', 'are', 'you']\n",
            "\n",
            "Base list:  [3, 2, 1, ['a', 'b'], 'hello', 'how', 'are', 'you']\n",
            "Last element removed:  [3, 2, 1, ['a', 'b'], 'hello', 'how', 'are']\n",
            "Middle element removed:  [3, 2, 1, 'hello', 'how', 'are']\n",
            "\n",
            "How many 2s are in the list? There is  1\n",
            "\n",
            "List before reverse:  [3, 2, 1, 'hello', 'how', 'are']\n",
            "List after reverse:  ['are', 'how', 'hello', 1, 2, 3]\n",
            "\n",
            "List before clear:  ['are', 'how', 'hello', 1, 2, 3]\n",
            "List after clear:  []\n"
          ]
        }
      ],
      "source": [
        "# List methods:\n",
        "\n",
        "my_list = [3, 2, 1, ['a', 'b']]\n",
        "\n",
        "# List length:\n",
        "\n",
        "print(\"List length: \", len(my_list))\n",
        "print(\"Length of the last item in the list: \", len(my_list[-1]), end=\"\\n\\n\")\n",
        "\n",
        "# Single item addition:\n",
        "\n",
        "print(\"List before append: \", my_list)\n",
        "my_list.append(\"hello\")\n",
        "print(\"List after append: \", my_list, end=\"\\n\\n\")\n",
        "\n",
        "# Multiple item addition:\n",
        "\n",
        "print(\"List before extend: \", my_list)\n",
        "my_list.extend([\"how\", \"are\", \"you\"])\n",
        "print(\"List after extend: \", my_list, end=\"\\n\\n\")\n",
        "\n",
        "# Item removal:\n",
        "\n",
        "print(\"Base list: \", my_list)\n",
        "my_list.pop()\n",
        "print(\"Last element removed: \", my_list)\n",
        "my_list.pop(len(my_list) // 2)\n",
        "print(\"Middle element removed: \", my_list, end=\"\\n\\n\")\n",
        "\n",
        "# Count number of items in list:\n",
        "\n",
        "print(\"How many 2s are in the list? There is \", my_list.count(2), end=\"\\n\\n\")\n",
        "\n",
        "# Reverse list contents:\n",
        "\n",
        "print(\"List before reverse: \", my_list)\n",
        "my_list.reverse()\n",
        "print(\"List after reverse: \", my_list, end=\"\\n\\n\")\n",
        "\n",
        "# List contents' wipe:\n",
        "\n",
        "print(\"List before clear: \", my_list)\n",
        "my_list.clear()\n",
        "print(\"List after clear: \", my_list)"
      ]
    },
    {
      "attachments": {},
      "cell_type": "markdown",
      "metadata": {
        "id": "X5vDXmythC8x"
      },
      "source": [
        "#### _Exercise: Copia de listas_\n",
        "\n",
        "A partir de una variable llamada `list_1` que contiene una lista, crea otra variable llamdada `list_2` que contenga los elementos de la primera lista (sin copiarlos a mano).\n",
        "\n",
        "*__Aviso__: los elementos de ambas listas deben ser independientes (si se modifica `list_1` no se deberá modificar `list_2`).*"
      ]
    },
    {
      "cell_type": "code",
      "execution_count": 10,
      "metadata": {
        "id": "5291xN6QhlsS"
      },
      "outputs": [
        {
          "ename": "NameError",
          "evalue": "name 'list_2' is not defined",
          "output_type": "error",
          "traceback": [
            "\u001b[1;31m---------------------------------------------------------------------------\u001b[0m",
            "\u001b[1;31mNameError\u001b[0m                                 Traceback (most recent call last)",
            "Cell \u001b[1;32mIn[10], line 11\u001b[0m\n\u001b[0;32m      3\u001b[0m list_1 \u001b[39m=\u001b[39m [\u001b[39m1\u001b[39m, \u001b[39m2\u001b[39m, \u001b[39m3\u001b[39m, \u001b[39m4\u001b[39m, \u001b[39m5\u001b[39m]\n\u001b[0;32m      5\u001b[0m \u001b[39m# Write your code below:\u001b[39;00m\n\u001b[0;32m      6\u001b[0m \n\u001b[0;32m      7\u001b[0m \n\u001b[0;32m      8\u001b[0m \n\u001b[0;32m      9\u001b[0m \u001b[39m# Do not modify this (automatic answer check):\u001b[39;00m\n\u001b[1;32m---> 11\u001b[0m \u001b[39massert\u001b[39;00m list_1 \u001b[39mis\u001b[39;00m \u001b[39mnot\u001b[39;00m list_2, \u001b[39m\"\u001b[39m\u001b[39mError: Lists are not independent.\u001b[39m\u001b[39m\"\u001b[39m\n\u001b[0;32m     12\u001b[0m \u001b[39mprint\u001b[39m(\u001b[39m\"\u001b[39m\u001b[39mOK!\u001b[39m\u001b[39m\"\u001b[39m)\n",
            "\u001b[1;31mNameError\u001b[0m: name 'list_2' is not defined"
          ]
        }
      ],
      "source": [
        "# Do not modify this (base data):\n",
        "\n",
        "list_1 = [1, 2, 3, 4, 5]\n",
        "\n",
        "# Write your code below:\n",
        "\n",
        "\n",
        "\n",
        "# Do not modify this (automatic answer check):\n",
        "\n",
        "assert list_1 is not list_2, \"Error: Lists are not independent.\"\n",
        "print(\"OK!\")"
      ]
    },
    {
      "attachments": {},
      "cell_type": "markdown",
      "metadata": {
        "id": "BBSFyKFQkHwc"
      },
      "source": [
        "#### _Exercise: Ordenación de listas_\n",
        "\n",
        "Dada una lista `list_1`, guarda en la variable `list_2` una copia ordenada (de menor a mayor) e independiente de la primera.\n",
        "\n",
        "_**Sugerencia**: busca el método de las listas que te se ajusta a los requisitos de este ejercicio._"
      ]
    },
    {
      "cell_type": "code",
      "execution_count": null,
      "metadata": {
        "id": "g33o4kPtkUNc"
      },
      "outputs": [],
      "source": [
        "# Do not modify this (base data):\n",
        "\n",
        "list_1 = [5, 3, -1, 2, 3, 0]\n",
        "\n",
        "# Write your code below:\n",
        "\n",
        " \n",
        "\n",
        "# Do not modify this (automatic answer check):\n",
        "\n",
        "assert list_1 is not list_2, \"Error: lists are not independent.\"\n",
        "assert all(list_2[i] <= list_2[i + 1] for i in range(len(list_2) - 1)), \"Error: the list is not sorted.\"\n",
        "print(\"OK!\")"
      ]
    },
    {
      "attachments": {},
      "cell_type": "markdown",
      "metadata": {
        "id": "Ybv_UgZp6SGA"
      },
      "source": [
        "## Tuples\n",
        "\n",
        "Tuples are sequential data types that are highly similar to lists. Their main difference is that lists allow editing the content of their positions, while tuples do not. They are **immutable** structures."
      ]
    },
    {
      "attachments": {},
      "cell_type": "markdown",
      "metadata": {
        "id": "MiHIYdZ96qvQ"
      },
      "source": [
        "## Dictionaries\n",
        "\n",
        "Dictionaries are, as mentioned before, pairs of values. They have got some peculiarities, such as the fact that in case an entry is repeated, its value will be overwritten with the most recent one. There are no repeated entries.\n",
        "\n",
        "It is always important to keep in mind that the data types used as dictionary keys must be immutable, that is, their elements cannot be modified. This is the case of integers, floats, complex numbers, strings and tuples. Lists cannot be used as dictionary keys.\n",
        " \n",
        "The values of a dictionary are not accessible through indices, as it happens with lists, tuples or strings. In this case, between the brackets should go the name of the key related to the value that is wanted to be found."
      ]
    },
    {
      "cell_type": "code",
      "execution_count": null,
      "metadata": {
        "colab": {
          "base_uri": "https://localhost:8080/"
        },
        "id": "0yHek5Dd7CeP",
        "outputId": "0b83779d-ba76-49bd-99ca-c9669ac466fb"
      },
      "outputs": [],
      "source": [
        "# Dictionary access example:\n",
        "\n",
        "# Dictionary definition:\n",
        "\n",
        "my_dict = {\n",
        "    \"key_1\": 1,\n",
        "    \"key_2\": 2,\n",
        "    \"key_3\": 3\n",
        "}\n",
        "\n",
        "# Dictionary access:\n",
        "\n",
        "print(my_dict)\n",
        "print(my_dict[\"key_2\"])"
      ]
    },
    {
      "cell_type": "code",
      "execution_count": null,
      "metadata": {
        "colab": {
          "base_uri": "https://localhost:8080/"
        },
        "id": "XvHSqtTW7eE5",
        "outputId": "1ce4beca-4484-411d-942a-8347433d2815"
      },
      "outputs": [],
      "source": [
        "# Dictionary update example:\n",
        "\n",
        "my_dict = {\n",
        "    \"key_1\": 1,\n",
        "    \"key_2\": 2,\n",
        "    \"key_3\": 3\n",
        "}\n",
        "\n",
        "my_dict[\"key_2\"] = 5  # Updates the value related to the \"key_2\" key.\n",
        "\n",
        "print(my_dict)\n",
        "print(my_dict[\"key_2\"])"
      ]
    },
    {
      "attachments": {},
      "cell_type": "markdown",
      "metadata": {
        "id": "s_sbnh_Ewsgu"
      },
      "source": [
        "# Operators: relations between data\n",
        "\n",
        "In Python, there are a series of operators. The simplest ones are the arithmetic ones, followed by the assignment ones (which can be composed with the previous ones). Afterwards, there are the comparison ones, and finally, the logical operators."
      ]
    },
    {
      "attachments": {},
      "cell_type": "markdown",
      "metadata": {
        "id": "SvpjY-HSxO1g"
      },
      "source": [
        "## Arithmetic operators\n",
        "\n",
        "This type of operators are used to perform arithmetic operations between terms. The ones of addition and subtraction can be **unary** (they act on a single element) or **binary** (they relate two elements).\n",
        "\n",
        "Types:\n",
        "\n",
        "- **Addition (`+`)**: adds a given value to another.\n",
        "- **Subtraction (`-`)**: subtracts a given value from another.\n",
        "- **Multiplication (`*`)**: multiplies a value by another given.\n",
        "- **Exponentiation (`**`)**: raises a value to another given.\n",
        "- **Floating division (`/`)**: divides a value by another given and returns a floating result.\n",
        "- **Integer division (`//`)**: divides a value by another given and returns an integer result (truncated).\n",
        "- **Modulus (`%`)**: divides a value by another given and returns the remainder of the division."
      ]
    },
    {
      "cell_type": "code",
      "execution_count": null,
      "metadata": {
        "id": "GOa8cDAKwxMM"
      },
      "outputs": [],
      "source": [
        "# Unary operators:\n",
        "\n",
        "# Addition:\n",
        "\n",
        "positive_value = +1  # This is equivalent to 1.\n",
        "\n",
        "# Subtraction:\n",
        "\n",
        "negative_value = -1\n",
        "\n",
        "print(\"Positive: \", positive_value)\n",
        "print(\"Negative: \", negative_value)"
      ]
    },
    {
      "cell_type": "code",
      "execution_count": null,
      "metadata": {
        "colab": {
          "base_uri": "https://localhost:8080/"
        },
        "id": "Tc16VI_CxwvN",
        "outputId": "df09aea3-1c27-45d0-f8cc-e081aae7072c"
      },
      "outputs": [],
      "source": [
        "# Binary operators:\n",
        "\n",
        "# Addition:\n",
        "\n",
        "print(\"1 + 1\\t= \", 1 + 1)\n",
        "\n",
        "# Subtraction:\n",
        "\n",
        "print(\"2 - 1\\t= \", 2 - 1)\n",
        "\n",
        "# Multiplication:\n",
        "\n",
        "print(\"2 * 3\\t= \", 2 * 3)\n",
        "\n",
        "# Exponentiation:\n",
        "\n",
        "print(\"2 ** 3\\t= \", 2 ** 3)\n",
        "\n",
        "# Floating-point division:\n",
        "\n",
        "print(\"8 / 3\\t= \", 8 / 3)\n",
        "\n",
        "# Integer division:\n",
        "\n",
        "print(\"8 // 3\\t= \", 8 // 3)\n",
        " \n",
        "# Modulus (remainder):\n",
        "# a % b is equal to a - ((a // b) * b).\n",
        "\n",
        "print(\"11 % 2\\t= \", 8 % 3)"
      ]
    },
    {
      "attachments": {},
      "cell_type": "markdown",
      "metadata": {
        "id": "zurBYu9tItto"
      },
      "source": [
        "### _Exercise: Operadores aritméticos_\n",
        "\n",
        "Dadas dos tuplas de dos elementos contenidas en las variables `vector_1` y `vector_2`, crear una variable `distance` que contenga el resultado de calcular la distancia entre ambas.\n",
        "\n",
        "Sólo podrás utilizar operaciones aritméticas básicas (definidas en el apartado actual)."
      ]
    },
    {
      "cell_type": "code",
      "execution_count": null,
      "metadata": {
        "id": "LNZXiMqAIeYx"
      },
      "outputs": [],
      "source": [
        "# Do not modify this (base data):\n",
        "\n",
        "vector_1 = (0, 0)\n",
        "vector_2 = (1, 1)\n",
        "\n",
        "# Write your code below:\n",
        "\n"
      ]
    },
    {
      "attachments": {},
      "cell_type": "markdown",
      "metadata": {
        "id": "L0Ol7imCFdVM"
      },
      "source": [
        "## Assignment operators\n",
        "\n",
        "This type of operators are used to assign a value to a variable, but they can be combined with arithmetic operators to offer a more complete and compact functionality.\n",
        "\n",
        "Types:\n",
        "\n",
        "- **Assignment (`=`)**: assigns a given value to a variable.\n",
        "- **Assignment and addition (`+=`)**: adds a given value to the value of a variable and assigns the result to the variable itself.\n",
        "- **Assignment and subtraction (`-=`)**: subtracts a given value from the value of a variable and assigns the result to the variable itself.\n",
        "- **Assignment and multiplication (`*=`)**: multiplies the value of a variable by a given value and assigns the result to the variable itself.\n",
        "- **Assignment and exponentiation (`**=`)**: raises the value of a variable to a given value and assigns the result to the variable itself.\n",
        "- **Assignment and floating division (`/=`)**: divides the value of a variable by a given value and assigns the result (floating) to the variable itself.\n",
        "- **Assignment and integer division (`//=`)**: divides the value of a variable by a given value and assigns the result (integer) to the variable itself.\n",
        "- **Assignment and modulus division (`%=`)**: divides the value of a variable by a given value and assigns the remainder to the variable itself."
      ]
    },
    {
      "cell_type": "code",
      "execution_count": null,
      "metadata": {
        "id": "TcGUhU4jFnPJ"
      },
      "outputs": [],
      "source": [
        "# Assignation:\n",
        "\n",
        "variable = 1  # The value is now 1.\n",
        "\n",
        "# Assignation and addition:\n",
        "\n",
        "variable += 1  # The value is now 2.\n",
        "\n",
        "# Assignation and subtraction:\n",
        "\n",
        "variable -= 3  # The value is now -1.\n",
        "\n",
        "# Assignation and multiplication:\n",
        "\n",
        "variable *= -2  # The value is now 2.\n",
        "\n",
        "# Assignation and exponentiation:\n",
        "\n",
        "variable **= 2  # The value is now 4.\n",
        "\n",
        "# Assignation and floating-point division:\n",
        "\n",
        "variable /= 1  # The value is now 4.0.\n",
        "\n",
        "# Assignation and integer division:\n",
        "\n",
        "variable //= 1  # The value is now 2.\n",
        "\n",
        "# Assignation and modulus division:\n",
        "\n",
        "variable %= 1  # The value is now 1."
      ]
    },
    {
      "attachments": {},
      "cell_type": "markdown",
      "metadata": {
        "id": "otcmnO8RIkYs"
      },
      "source": [
        "## Comparison operators\n",
        "\n",
        "This type of operators allow comparing numeric values following the corresponding arithmetic rules.\n",
        "\n",
        "Types:\n",
        "\n",
        "- **Equal to (`==`)**: indicates if two elements are equal.\n",
        "- **Different from (`!=`)**: indicates if two elements are different.\n",
        "- **Less than (`<`)**: indicates if the first element is less than the second.\n",
        "- **Greater than (`>`)**: indicates if the first element is greater than the second.\n",
        "- **Less than or equal to (`<=`)**: indicates if the first element is less than or equal to the second.\n",
        "- **Greater than or equal to (`>=`)**: indicates if the first element is greater than or equal to the second."
      ]
    },
    {
      "cell_type": "code",
      "execution_count": null,
      "metadata": {
        "colab": {
          "base_uri": "https://localhost:8080/"
        },
        "id": "9Rrq5lAWNGsa",
        "outputId": "78cb50c0-e7af-4cfb-82cf-9a1e6e8fbaaa"
      },
      "outputs": [],
      "source": [
        "# Equal to:\n",
        "\n",
        "print(\"1 == 1\\t: \", 1 == 1)\n",
        "\n",
        "# Different than:\n",
        "\n",
        "print(\"2 != 1\\t: \", 2 != 1)\n",
        "\n",
        "# Lower than:\n",
        "\n",
        "print(\"2 < 3\\t: \", 2 < 3)\n",
        "\n",
        "# Greater than:\n",
        "\n",
        "print(f\"2 > 3\\t: \", 2 > 3)\n",
        "\n",
        "# Lower than or equal to:\n",
        "\n",
        "print(f\"3 <= 3\\t: \", 8 <= 3)\n",
        "\n",
        "# Greater than or equal to:\n",
        "\n",
        "print(f\"2 >= 3\\t: \", 8 >= 3)"
      ]
    },
    {
      "attachments": {},
      "cell_type": "markdown",
      "metadata": {
        "id": "JLqDKf6pN_tT"
      },
      "source": [
        "## Logical operators\n",
        "\n",
        "This type of operators are used to combine boolean values and return another boolean value that responds to the rules of propositional logic established by each operation.\n",
        "\n",
        "Types:\n",
        "\n",
        "- **Not (`not`)**: negates the boolean value of an element.\n",
        "- **And (`and`)**: checks if the values of two boolean elements are true.\n",
        "- **Or (`or`)**: checks if all or any of the values of two boolean elements are true."
      ]
    },
    {
      "cell_type": "code",
      "execution_count": null,
      "metadata": {
        "colab": {
          "base_uri": "https://localhost:8080/"
        },
        "id": "z5FvYb8pO3x9",
        "outputId": "7dbbf23a-43d9-4ce8-b5e9-02b3ba8aea81"
      },
      "outputs": [],
      "source": [
        "# Not:\n",
        "\n",
        "print(\"not True\\t: \", not True)\n",
        "\n",
        "# And:\n",
        "\n",
        "print(\"True and False\\t: \", True and False)\n",
        "\n",
        "# Or:\n",
        "\n",
        "print(\"True or False\\t: \", True or False)\n",
        "\n",
        "# Xor:\n",
        "\n",
        "print(\"True xor False\\t: \", True ^ True)"
      ]
    },
    {
      "attachments": {},
      "cell_type": "markdown",
      "metadata": {
        "id": "jgM44_91PJ6u"
      },
      "source": [
        "## Conditional statements: which path does the program follow?\n",
        "\n",
        "Conditional statements are instructions that, depending on a given condition, can generate alternative execution flows for the program, altering its linearity."
      ]
    },
    {
      "attachments": {},
      "cell_type": "markdown",
      "metadata": {
        "id": "CZ-ETOLYPT4y"
      },
      "source": [
        "## Simple conditional\n",
        "\n",
        "The simple conditional (*if*) consists of a single instruction that determines if a condition is true. If it is, it executes the code it contains."
      ]
    },
    {
      "cell_type": "code",
      "execution_count": null,
      "metadata": {
        "id": "TFY1IcfdPd37"
      },
      "outputs": [],
      "source": [
        "# If statement:\n",
        "\n",
        "variable = 2\n",
        "\n",
        "if variable == 2:\n",
        "  print(\"The value of the variable is 2!\")"
      ]
    },
    {
      "attachments": {},
      "cell_type": "markdown",
      "metadata": {
        "id": "xQhhJaLuPkl2"
      },
      "source": [
        "## Closed conditional\n",
        "\n",
        "The closed conditional (*if-else*) consists of two instructions: the first one determines if a condition is true, and if it is, it executes the code block associated with it. The second one executes the code block associated with it in case the condition of the first one is not true."
      ]
    },
    {
      "cell_type": "code",
      "execution_count": null,
      "metadata": {
        "id": "nDAMug-KP79G"
      },
      "outputs": [],
      "source": [
        "# If-else:\n",
        "\n",
        "variable = 3\n",
        "\n",
        "if variable == 2:\n",
        "  print(\"The value of the variable is 2!\")\n",
        "  \n",
        "else:\n",
        "  print(\"The value of the variable is not 2!\")"
      ]
    },
    {
      "attachments": {},
      "cell_type": "markdown",
      "metadata": {
        "id": "_IKeLXMdQEF1"
      },
      "source": [
        "## Compound closed conditional\n",
        "\n",
        "The compound closed conditional (*if-elif-else*) consists of a series of instructions, headed by an `if` that evaluates if a given condition is true, followed by a series of `elif` instructions that evaluate if a condition is true only when none of the previous ones has been. Finally, it contains an `else` that executes a code block in case none of the conditions has been true."
      ]
    },
    {
      "cell_type": "code",
      "execution_count": null,
      "metadata": {
        "colab": {
          "base_uri": "https://localhost:8080/"
        },
        "id": "2iB6piNTRinW",
        "outputId": "f91854fa-5c52-43f8-c8ad-12f34c25d18d"
      },
      "outputs": [],
      "source": [
        "# If-elif-else:\n",
        "\n",
        "variable = 4\n",
        "\n",
        "if variable < 0:\n",
        "  print(\"The value is negative!\")\n",
        "\n",
        "elif variable >= 1:  # This is True and it has been executed.\n",
        "  print(\"The value is greater or equal to 1!\")\n",
        "\n",
        "elif variable == 4:  # This is True, yet it has not been executed.\n",
        "  print(\"The value is 4\")\n",
        "  \n",
        "else:\n",
        "  print(\"The value must be located between 0 and 1...\")"
      ]
    },
    {
      "attachments": {},
      "cell_type": "markdown",
      "metadata": {
        "id": "LloG-xx5SQGC"
      },
      "source": [
        "### Observation: compound closed conditional vs. consecutive simple conditionals\n",
        "\n",
        "It is interesting to observe that the `elif` instruction stops considering subsequent evaluations if its condition is met. This does not happen with consecutive simple conditionals, as can be observed in the following example:"
      ]
    },
    {
      "cell_type": "code",
      "execution_count": null,
      "metadata": {
        "colab": {
          "base_uri": "https://localhost:8080/"
        },
        "id": "V2RH6FADSDII",
        "outputId": "59816938-1fe8-41df-e21d-9476d2ebe9f9"
      },
      "outputs": [],
      "source": [
        "# Consecutive ifs:\n",
        "\n",
        "variable = 4\n",
        "\n",
        "if variable < 0:\n",
        "  print(\"The value is negative!\")\n",
        "\n",
        "if variable >= 1:  # This is True and it has been executed.\n",
        "  print(\"The value is greater or equal to 1!\")\n",
        "  \n",
        "if variable == 4:  # This is True and it has been executed.\n",
        "  print(\"The value is 4\")"
      ]
    },
    {
      "attachments": {},
      "cell_type": "markdown",
      "metadata": {
        "id": "t1Nuzv4eToRj"
      },
      "source": [
        "# Iteration structures, iteration structures, iteration structures...\n",
        "\n",
        "**Iteration**: cycle of repetition of an instruction or block of instructions.\n",
        "\n",
        "Iteration structures allow performing instructions several times quickly and comfortably. In Python, there are two variants for these structures."
      ]
    },
    {
      "attachments": {},
      "cell_type": "markdown",
      "metadata": {
        "id": "1NYNq9EITycR"
      },
      "source": [
        "## Closed-range iteration (sequence)\n",
        "\n",
        "Closed-range iteration is performed a limited number of times. For this, a counter variable and a sequential data type that contains the repetitions are used.\n",
        "\n",
        "In Python, the range iterator is the `for` loop. Its structure can be appreciated in the following example:"
      ]
    },
    {
      "cell_type": "code",
      "execution_count": null,
      "metadata": {
        "colab": {
          "base_uri": "https://localhost:8080/"
        },
        "id": "KcyGVhswUSOS",
        "outputId": "6da1bed5-dc9d-4e8e-a6f6-4733471b8b5d"
      },
      "outputs": [],
      "source": [
        "# For loop:\n",
        "\n",
        "variable = 3\n",
        "items = [1, 2, 3, 'a', 'b', 'c']\n",
        "\n",
        "for i in items:\n",
        "  print(\"Current element: \", i)"
      ]
    },
    {
      "attachments": {},
      "cell_type": "markdown",
      "metadata": {
        "id": "KJm94r6hUtCA"
      },
      "source": [
        "## Open-range iteration (condition)\n",
        "\n",
        "Open-range iteration is performed an indeterminate number of times, as long as the condition is true.\n",
        "\n",
        "In Python, the condition iterator is the `while` loop. Its structure can be appreciated in the following example:"
      ]
    },
    {
      "cell_type": "code",
      "execution_count": null,
      "metadata": {
        "colab": {
          "base_uri": "https://localhost:8080/"
        },
        "id": "QIwD4YjcU_Sj",
        "outputId": "e212c8a8-aaf8-4d35-ad61-8cb4b4b50758"
      },
      "outputs": [],
      "source": [
        "# While loop:\n",
        "\n",
        "variable = 2\n",
        "iterations = 0\n",
        "\n",
        "while variable > 0:\n",
        "  print(\"This is iteration number \", iterations)\n",
        "  \n",
        "  # Execution break statement:\n",
        "  iterations += 1\n",
        "  if iterations == 20:\n",
        "    break"
      ]
    },
    {
      "attachments": {},
      "cell_type": "markdown",
      "metadata": {
        "id": "cdH3rWwlVkPd"
      },
      "source": [
        "## Structures generated by iteration\n",
        "\n",
        "Python offers the possibility of generating structures through \"embedded\" iterations in the structure itself. This concept can be understood through the reasoning of how sequential structures work. If they contain a series of elements, these elements can be inserted into them through a loop.\n",
        "\n",
        "The procedure for generating the structure through embedded iterations is called, in English, _comprehension_. For the case of lists, it is called _list comprehension_; for tuples, _tuple comprehension_, for dictionaries, _dictionary comprehension_, etc."
      ]
    },
    {
      "cell_type": "code",
      "execution_count": null,
      "metadata": {
        "colab": {
          "base_uri": "https://localhost:8080/"
        },
        "id": "j4rv4wkqXnnA",
        "outputId": "877d3790-0803-4497-8cc4-d684f06aa1d8"
      },
      "outputs": [],
      "source": [
        "# Filling a list with an iterative structure:\n",
        "\n",
        "list_variable = []\n",
        "print(\"List before loop: \", list_variable)\n",
        "\n",
        "for i in range(0, 10, 1):\n",
        "  list_variable.append(i)  # The append method inserts a value (i) in the list.\n",
        "\n",
        "print(\"List after loop: \", list_variable)"
      ]
    },
    {
      "cell_type": "code",
      "execution_count": null,
      "metadata": {
        "colab": {
          "base_uri": "https://localhost:8080/"
        },
        "id": "Y-r9qu8fX3VL",
        "outputId": "401ec9cc-8c27-4c68-91e8-973ea44de45f"
      },
      "outputs": [],
      "source": [
        "# Filling a list using a list comprehension:\n",
        "\n",
        "list_variable = [i for i in range(10)]\n",
        "print(\"Generated list: \", list_variable)"
      ]
    },
    {
      "attachments": {},
      "cell_type": "markdown",
      "metadata": {
        "id": "7K7Q7d31J8_H"
      },
      "source": [
        "### _Exercise: Estructuras generadas por iteración_\n",
        "\n",
        "Genera una lista mediante una _list comprehension_ y guárdala en una variable llamada `gen_list`. La lista deberá contener un rango de valores entre `0` y `-22` con saltos de 3 en 3 y debe excluir los valores `-6` y `-18`."
      ]
    },
    {
      "cell_type": "code",
      "execution_count": null,
      "metadata": {
        "id": "hbaMqmq8J8lw"
      },
      "outputs": [],
      "source": [
        "# Write your code below:\n",
        "\n",
        "\n",
        "\n",
        "# Do not modify this (automatic answer check):\n",
        "\n",
        "assert gen_list == [0, -3, -9, -12, -15, -21], \"Error: incorrect result.\"\n",
        "print(\"OK!\")"
      ]
    },
    {
      "attachments": {},
      "cell_type": "markdown",
      "metadata": {
        "id": "X8qXa-M0Yhjp"
      },
      "source": [
        "# Functions, are they functional?\n",
        "\n",
        "Functions are statement groups that act as black boxes. They can have zero or more inputs and offer a single output. In Python, the output data type of a function is not strict (a same function can return an Integer and a String, for example)."
      ]
    },
    {
      "cell_type": "code",
      "execution_count": null,
      "metadata": {
        "colab": {
          "base_uri": "https://localhost:8080/"
        },
        "id": "5hXAb2ziYxwn",
        "outputId": "4610b365-175d-4f41-8de2-a8d212e0c425"
      },
      "outputs": [],
      "source": [
        "# Function definition:\n",
        "\n",
        "def say_hi():\n",
        "  print(\"Hi!\")\n",
        "\n",
        "# Function call:\n",
        "\n",
        "say_hi()"
      ]
    },
    {
      "attachments": {},
      "cell_type": "markdown",
      "metadata": {},
      "source": [
        "## Arguments\n",
        "\n",
        "Arguments are the values that are passed to a function when it is called. They can be of any type, including other functions.\n",
        "\n",
        "Arguments can be classified in two types, depending on whether they are mandatory or optional:\n",
        "\n",
        "- **Positional arguments**: arguments that must be passed to a function in the same order they are defined. They are represented as a single value (i.e. `1`)\n",
        "- **Keyword (default) arguments**: arguments that can be passed to a function in any order, as long as they are identified by a name. They are defined with a default value that is used if they are not passed to the function. They are represented as a name-value pair (i.e. `name=\"John\"`).\n",
        "\n",
        "**Observation**: positional arguments must be defined before keyword arguments.\n",
        "\n",
        "Furthermore, arguments can be classified in another two types, depending on whether they are fixed or variable:\n",
        "\n",
        "- **Fixed arguments**: arguments that must be passed to a function in a fixed number. They are represented as a tuple of values (i.e. `(1, 2, 3)`)\n",
        "- **Variable arguments**: arguments that can be passed to a function in an indeterminate number. They are represented as a dictionary of name-value pairs (i.e. `{'name': \"John\", 'age': 23}`)"
      ]
    },
    {
      "attachments": {},
      "cell_type": "markdown",
      "metadata": {},
      "source": [
        "### Fixed argument functions\n",
        "\n",
        "Fixed argument functions are functions that require a fixed number of arguments to be passed to them. These arguments can be mandatory or optional."
      ]
    },
    {
      "attachments": {},
      "cell_type": "markdown",
      "metadata": {},
      "source": [
        "#### Positional arguments"
      ]
    },
    {
      "cell_type": "code",
      "execution_count": 51,
      "metadata": {},
      "outputs": [
        {
          "name": "stdout",
          "output_type": "stream",
          "text": [
            "Calling function...\n",
            "a:  1\n",
            "b:  2\n",
            "c:  3\n",
            "\n",
            "Calling function...\n",
            "a:  John\n",
            "b:  Doe\n",
            "c:  42\n",
            "\n"
          ]
        }
      ],
      "source": [
        "# Definition with positional arguments:\n",
        "\n",
        "def my_function(a, b, c):\n",
        "    print(\"Calling function...\")\n",
        "    print(\"a: \", a)\n",
        "    print(\"b: \", b)\n",
        "    print(\"c: \", c)\n",
        "    print()\n",
        "  \n",
        "# Function call:\n",
        "\n",
        "my_function(1, 2, 3)\n",
        "my_function(\"John\", \"Doe\", 42)\n",
        "\n",
        "# Attempting to run this function with less or more arguments will result in an error.\n",
        "# Uncomment the following lines to see the error (but remember to comment them again later!):\n",
        "\n",
        "# my_function(1, 2)\n",
        "# my_function(1, 2, 3, 4)"
      ]
    },
    {
      "attachments": {},
      "cell_type": "markdown",
      "metadata": {},
      "source": [
        "#### Keyword (default) arguments"
      ]
    },
    {
      "cell_type": "code",
      "execution_count": 55,
      "metadata": {},
      "outputs": [
        {
          "name": "stdout",
          "output_type": "stream",
          "text": [
            "Calling function...\n",
            "a:  default_a\n",
            "b:  default_b\n",
            "c:  default_c\n",
            "\n",
            "Calling function...\n",
            "a:  1\n",
            "b:  default_b\n",
            "c:  default_c\n",
            "\n",
            "Calling function...\n",
            "a:  1\n",
            "b:  2\n",
            "c:  default_c\n",
            "\n",
            "Calling function...\n",
            "a:  1\n",
            "b:  2\n",
            "c:  3\n",
            "\n",
            "Calling function...\n",
            "a:  1\n",
            "b:  2\n",
            "c:  3\n",
            "\n",
            "Calling function...\n",
            "a:  1\n",
            "b:  2\n",
            "c:  3\n",
            "\n"
          ]
        }
      ],
      "source": [
        "# Definition with keyword (default) arguments:\n",
        "\n",
        "def my_function(a=\"default_a\", b=\"default_b\", c=\"default_c\"):\n",
        "    print(\"Calling function...\")\n",
        "    print(\"a: \", a)\n",
        "    print(\"b: \", b)\n",
        "    print(\"c: \", c)\n",
        "    print()\n",
        "  \n",
        "# Function call:\n",
        "\n",
        "my_function()\n",
        "my_function(1)\n",
        "my_function(1, 2)\n",
        "my_function(1, 2, 3)\n",
        "\n",
        "# Attempting to run this function with more arguments will result in an error.\n",
        "# Uncomment the following line to see the error (but remember to comment it again later!):\n",
        "\n",
        "# my_function(1, 2, 3, 4)\n",
        "\n",
        "# Function call with named arguments:\n",
        "\n",
        "my_function(a=1, b=2, c=3)\n",
        "my_function(c=3, b=2, a=1)  # Order does not matter while all arguments are named."
      ]
    },
    {
      "attachments": {},
      "cell_type": "markdown",
      "metadata": {},
      "source": [
        "### Variable argument functions\n",
        "\n",
        "Variable argument functions are functions that can receive an indeterminate number of arguments. These arguments can be variable or keyword."
      ]
    },
    {
      "attachments": {},
      "cell_type": "markdown",
      "metadata": {},
      "source": [
        "#### Positional arguments"
      ]
    },
    {
      "cell_type": "code",
      "execution_count": 39,
      "metadata": {},
      "outputs": [
        {
          "name": "stdout",
          "output_type": "stream",
          "text": [
            "Calling my function...\n",
            "Arguments ()\n",
            "Calling my function...\n",
            "Arguments (1,)\n",
            "Calling my function...\n",
            "Arguments (1, 2)\n",
            "Calling my function...\n",
            "Arguments (1, 2, 3)\n"
          ]
        }
      ],
      "source": [
        "# Definition with variable arguments:\n",
        "\n",
        "def my_function(*args):\n",
        "    print(\"Calling my function...\")\n",
        "    print(\"Arguments\", args)\n",
        "  \n",
        "# Function call:\n",
        "\n",
        "my_function()\n",
        "my_function(1)\n",
        "my_function(1, 2)\n",
        "my_function(1, 2, 3)\n",
        "\n",
        "# Attempting to run this function with keyword arguments will result in an error.\n",
        "# Uncomment the following line to see the error (but remember to comment it again later!):\n",
        "\n",
        "# my_function(1, 2, 3, last=4)"
      ]
    },
    {
      "attachments": {},
      "cell_type": "markdown",
      "metadata": {},
      "source": [
        "#### Keyword (default) arguments"
      ]
    },
    {
      "cell_type": "code",
      "execution_count": 47,
      "metadata": {},
      "outputs": [
        {
          "name": "stdout",
          "output_type": "stream",
          "text": [
            "Calling my function...\n",
            "Arguments {}\n",
            "Calling my function...\n",
            "Arguments {'name': 'John'}\n",
            "Calling my function...\n",
            "Arguments {'name': 'John', 'age': 30}\n"
          ]
        }
      ],
      "source": [
        "# Definition with keyword arguments:\n",
        "\n",
        "def my_function(**kwargs):\n",
        "    print(\"Calling my function...\")\n",
        "    print(\"Arguments\", kwargs)\n",
        "  \n",
        "# Function call:\n",
        "\n",
        "my_function()\n",
        "my_function(name=\"John\")\n",
        "my_function(name=\"John\", age=30)\n",
        "\n",
        "# Attempting to run this function with variable arguments will result in an error.\n",
        "# Uncomment the following line to see the error (but remember to comment it again later!):\n",
        "\n",
        "# my_function(\"John\", age=30)"
      ]
    },
    {
      "attachments": {},
      "cell_type": "markdown",
      "metadata": {},
      "source": [
        "### Argument precedence\n",
        "\n",
        "Arguments are passed to a function in the following order:\n",
        "\n",
        "1. Mandatory arguments.\n",
        "2. Optional arguments.\n",
        "3. Variable arguments.\n",
        "4. Keyword arguments.\n",
        "\n",
        "Breaking this order will cause an error, as can be observed in the following examples:"
      ]
    },
    {
      "cell_type": "code",
      "execution_count": 48,
      "metadata": {},
      "outputs": [
        {
          "ename": "SyntaxError",
          "evalue": "non-default argument follows default argument (1790068308.py, line 1)",
          "output_type": "error",
          "traceback": [
            "\u001b[1;36m  Cell \u001b[1;32mIn[48], line 1\u001b[1;36m\u001b[0m\n\u001b[1;33m    def my_function(name=\"John\", age):\u001b[0m\n\u001b[1;37m                                 ^\u001b[0m\n\u001b[1;31mSyntaxError\u001b[0m\u001b[1;31m:\u001b[0m non-default argument follows default argument\n"
          ]
        }
      ],
      "source": [
        "def my_function(name=\"John\", age):\n",
        "    print(\"Name: \", name, \", age: \", age)"
      ]
    },
    {
      "cell_type": "markdown",
      "metadata": {
        "id": "XxuPAxAHIH82"
      },
      "source": [
        "## Fuciones de argumentos variables\n",
        "\n",
        "Las funciones de argumentos variables contienen un número indeterminado de argumentos, no definidos el la propia función. Este tipo de argumentos aceptan cero o más elementos."
      ]
    },
    {
      "cell_type": "markdown",
      "metadata": {
        "id": "YMZp5or4IP2W"
      },
      "source": [
        "### Argumentos posicionales (positional args)"
      ]
    },
    {
      "cell_type": "code",
      "execution_count": null,
      "metadata": {
        "colab": {
          "base_uri": "https://localhost:8080/"
        },
        "id": "CvpN7WUcMKc1",
        "outputId": "e2b7a31e-5962-4ebb-ff2c-122166d1f2de"
      },
      "outputs": [],
      "source": [
        "# Multiple positional arguments function:\n",
        "\n",
        "def sum_values(*args):\n",
        "  counter = 0\n",
        "  for value in args:\n",
        "    counter += value\n",
        "\n",
        "  return counter\n",
        "\n",
        "print(\"No arguments = \", sum_values())\n",
        "print(\"Arguments 1, 2 = \", sum_values(1, 2))\n",
        "print(\"Arguments 1, 2, 3.14159 = \", sum_values(1, 2, 3.14159))"
      ]
    },
    {
      "attachments": {},
      "cell_type": "markdown",
      "metadata": {
        "id": "3jCEwYLQLcHo"
      },
      "source": [
        "#### _Exercise: Argumentos posicionales únicos y variables_\n",
        "\n",
        "Define una función que tome un argumento posicional y más argumentos variables. El primer argumento debe ser el título de una historia. Cada uno de los demás argumentos debe ser una línea de la historia, por ejemplo:\n",
        "\n",
        "> _Título (argumento posicional único)_\n",
        "\n",
        ">> _Línea 1 (argumento posicional variable 1)_\n",
        "\n",
        ">> _Línea 1 (argumento posicional variable 2)_\n",
        "\n",
        "...\n",
        "\n",
        ">> _Línea n (argumento posicional variable n)_\n",
        "\n",
        "La función debe devolver un String con la estructura descrita y el contenido pasado a la función.\n",
        "\n",
        "_**Sugerencia**: para indentar las líneas de texto puedes utilizar el caracter escapado del tabulador '\\t'. Para separar líneas puedes utilizar el caracter escapado de nueva línea '\\n'._"
      ]
    },
    {
      "cell_type": "code",
      "execution_count": null,
      "metadata": {
        "id": "PuYAJcRlNA7H"
      },
      "outputs": [],
      "source": [
        "# Write your code below:\n",
        "\n"
      ]
    },
    {
      "cell_type": "markdown",
      "metadata": {
        "id": "VXOdCTCPIVAu"
      },
      "source": [
        "### Argumentos clave-valor (keyword args)"
      ]
    },
    {
      "cell_type": "code",
      "execution_count": null,
      "metadata": {
        "colab": {
          "base_uri": "https://localhost:8080/"
        },
        "id": "MLkFtKFlM78U",
        "outputId": "b9f0b70c-fd05-4157-f049-c47bbe263478"
      },
      "outputs": [],
      "source": [
        "# Multiple keyword arguments function:\n",
        "\n",
        "def generate_report(**kwargs):\n",
        "  for key, value in kwargs.items():\n",
        "    print(\"Name: \", key.capitalize(), \"\\tSalary: \", value)\n",
        "\n",
        "generate_report(\n",
        "    lete=0,\n",
        "    ruben=69,\n",
        "    feijoo=1_476_124 \n",
        ")"
      ]
    },
    {
      "cell_type": "markdown",
      "metadata": {
        "id": "n_6EgSf5wVBH"
      },
      "source": [
        "## Strings de documentación (_docstrings_)\n",
        "\n",
        "Los Strings de documentación sirven para indicar qué hace una función en concreto. Permiten utilizar la función estándar `help` para mostrar su documentación en pantalla según se ejecuta el programa.\n",
        "\n",
        "Los _docstrings_ de funciones se sitúan inmediatamente debajo de la línea que define la función (`def ...`). Se inician con tres dobles comillas, al lado de las cuales se indica un resumen (una línea) de lo que hace la función. Tras esa línea se inserta otra en blanco, y posteriormente se procede a realizar una explicación detallada del desarrollo de la función.\n",
        "\n",
        "Veamos como crear una función sencilla con un _docstring_."
      ]
    },
    {
      "cell_type": "code",
      "execution_count": null,
      "metadata": {
        "colab": {
          "base_uri": "https://localhost:8080/"
        },
        "id": "qf0XHWsFwp_n",
        "outputId": "9ca5a634-d44e-47a6-e4ee-5056ae3e804b"
      },
      "outputs": [],
      "source": [
        "# Docstring example:\n",
        "\n",
        "def sum_values(*args):\n",
        "  \"\"\"Sums several values passed as arguments.\n",
        "\n",
        "  This method allows the user to sum up multiple values of data types int and\n",
        "  float. The output is a single value (the combination of all the inputs).\n",
        "  \"\"\"\n",
        "\n",
        "  counter = 0\n",
        "  for value in args:\n",
        "    counter += value\n",
        "\n",
        "  return counter\n",
        "\n",
        "help(sum_values)  # Docstring visualization via `help` method."
      ]
    },
    {
      "cell_type": "markdown",
      "metadata": {
        "id": "1qhIr4_eIcWO"
      },
      "source": [
        "# Clases y objetos\n",
        "\n",
        "**Instancia**: generación individual y específica de una clase.\n",
        "\n",
        "Las clases son el elemento principal de la programación con Python. Los objetos son instancias de una clase, pudiendo tener valores específicos para ciertos componentes de la misma, que permiten diferenciar objetos distintos.\n",
        "\n",
        "Realmente, cada elemento en Python es un objeto (¡incluso las propias clases!), por lo que la explicación siguiente puede ofrecer mucha claridad sobre el funcionamiento del lenguaje."
      ]
    },
    {
      "cell_type": "markdown",
      "metadata": {
        "id": "BtYd_VPjsdfL"
      },
      "source": [
        "## Los elementos inanimados: atributos\n",
        "\n",
        "Los atributos son variables ligadas a una instancia de una clase. Funcionan como cualquier variable normal, sólo que contienen una referencia al propio objeto que permite operar de manera interna con ellos.\n",
        "\n",
        "Esta referencia es, concretamente, la palabra `self`, que en inglés significa \"uno mismo\" o \"sobre sí mismo\". Como se puede deducir, dicha referencia indica que todo lo que vaya ligado a ella estará relacionado internamente con la clase a la que señala."
      ]
    },
    {
      "cell_type": "markdown",
      "metadata": {
        "id": "ZAlj9cKHIfsG"
      },
      "source": [
        "## Los elementos animados: métodos\n",
        "\n",
        "Los métodos de una clase son funciones normales y corrientes que pueden actuar de manera interna en la propia clase, quedando su acceso restringido desde fuera de la misma."
      ]
    },
    {
      "cell_type": "markdown",
      "metadata": {
        "id": "ACS12vgvswhM"
      },
      "source": [
        "### La base: el constructor\n",
        "\n",
        "El constructor es una función o método fundamental para cada clase. Permite generar instancias de la misma con valores específicos que se le podrán pasar como argumentos.\n",
        "\n",
        "Que no os asuste el nombre, es una función muy sencilla con un comportamiento _super_ predecible."
      ]
    },
    {
      "cell_type": "code",
      "execution_count": null,
      "metadata": {
        "colab": {
          "base_uri": "https://localhost:8080/"
        },
        "id": "0gJXXbcAtNzF",
        "outputId": "43cf066b-4563-41ed-b9ae-3f4ae7515ada"
      },
      "outputs": [],
      "source": [
        "# Basic class example 1:\n",
        "\n",
        "# Class definition:\n",
        "\n",
        "class Cube:\n",
        "\n",
        "  def __init__(self):  # Constructor method.\n",
        "    self.color = \"red\"\n",
        "    self.size = 3\n",
        "\n",
        "# Class instantiation:\n",
        "\n",
        "my_cube = Cube()  # This calls the constructor method.\n",
        "\n",
        "print(Cube)\n",
        "print(my_cube)\n",
        "\n",
        "print(\"Cube color: \", my_cube.color)\n",
        "print(\"Cube size: \", my_cube.size)"
      ]
    },
    {
      "cell_type": "markdown",
      "metadata": {
        "id": "-Gi7FPnNtsr0"
      },
      "source": [
        "En este ejemplo, sin embargo, se puede apreciar que aunque se creen diversos objetos a partir de la clase `Car`, todos ellos tendrán el color rojo y 5 puertas. Conviene entonces añadir algo de funcionalidad que permita personalizar el objeto como tal."
      ]
    },
    {
      "cell_type": "code",
      "execution_count": null,
      "metadata": {
        "colab": {
          "base_uri": "https://localhost:8080/"
        },
        "id": "avetJ-_xt5kc",
        "outputId": "fb3b6bba-c77a-4fdd-8111-baecd522de5e"
      },
      "outputs": [],
      "source": [
        "# Basic class example 2:\n",
        "\n",
        "class Cube:\n",
        "\n",
        "  def __init__(self, color, size):\n",
        "    self.color = color\n",
        "    self.size = size\n",
        "\n",
        "\n",
        "my_cube = Cube(\"blue\", 3)\n",
        "\n",
        "print(\"Cube color: \", my_cube.color)\n",
        "print(\"Cube size: \", my_cube.size)"
      ]
    },
    {
      "cell_type": "markdown",
      "metadata": {
        "id": "q2uvqKvhJLLV"
      },
      "source": [
        "### Métodos propios\n",
        "\n",
        "Los métodos propios son todas aquellas funcionalidades implementadas por el usuario de manera manual, que contengan una rutina personalizada.\n",
        "\n",
        "Una vez más, siguen siendo métodos, por lo que la definición de la función no es nada del otro mundo.\n",
        "\n",
        "Vamos a añadir una función que haga rebotar al cubo creado anteriormente:"
      ]
    },
    {
      "cell_type": "code",
      "execution_count": null,
      "metadata": {
        "colab": {
          "base_uri": "https://localhost:8080/"
        },
        "id": "fu8Yupf7vC81",
        "outputId": "c680ee07-b7ca-4b64-cec6-2d0f7056b142"
      },
      "outputs": [],
      "source": [
        "# Basic class example 3:\n",
        "\n",
        "class Cube:\n",
        "\n",
        "  def __init__(self, color, size):\n",
        "    self.color = color\n",
        "    self.size = size\n",
        "\n",
        "  def bounce(self):  # Custom method.\n",
        "    print(\"Boing!\")\n",
        "\n",
        "\n",
        "my_cube = Cube(\"blue\", 3)\n",
        "\n",
        "print(\"Cube color: \", my_cube.color)\n",
        "print(\"Cube size: \", my_cube.size)\n",
        "\n",
        "for _ in range(3):\n",
        "  my_cube.bounce()"
      ]
    },
    {
      "cell_type": "markdown",
      "metadata": {
        "id": "POOEAcmfJQGV"
      },
      "source": [
        "### Métodos mágicos\n",
        "\n",
        "Los métodos mágicos son rutinas especiales que permiten a la clase interactuar con estructuras básicas de Python, como pueden ser la función `len`, las operaciones sobre elementos e incluso su representación en pantalla.\n",
        "\n",
        "Dichos métodos se definen encapsulados entre dos barras bajas (`__`). Si lo estais pensando... efectivamente: ¡el constructor es un método mágico!\n",
        "\n",
        "Vamos a añadirle al cubo la posibilidad de operar correctamente con la función estándar `len`: "
      ]
    },
    {
      "cell_type": "code",
      "execution_count": null,
      "metadata": {
        "colab": {
          "base_uri": "https://localhost:8080/"
        },
        "id": "miiHLu9Cv4En",
        "outputId": "a9a50765-d73b-456e-e73e-3e2d6480c710"
      },
      "outputs": [],
      "source": [
        "# Basic class example 4:\n",
        "\n",
        "class Cube:\n",
        "\n",
        "  def __init__(self, color, size):\n",
        "    self.color = color\n",
        "    self.size = size\n",
        "\n",
        "  def bounce(self):\n",
        "    print(\"Boing!\")\n",
        "\n",
        "  def __len__(self):  # Magic method.\n",
        "    return self.size\n",
        "\n",
        "\n",
        "my_cube = Cube(\"blue\", 3)\n",
        "\n",
        "print(\"Cube color: \", my_cube.color)\n",
        "print(\"Cube size: \", len(my_cube))  # New method call."
      ]
    },
    {
      "cell_type": "markdown",
      "metadata": {
        "id": "T-nW8msnJTGF"
      },
      "source": [
        "## Visibilidad de métodos\n",
        "\n",
        "Python permite visualizar una lista de métodos definidos para cada clase. La función utilizada para ello es `dir`. Se le pasa como argumento la clase en cuestión (no el objeto)."
      ]
    },
    {
      "cell_type": "code",
      "execution_count": null,
      "metadata": {
        "colab": {
          "base_uri": "https://localhost:8080/"
        },
        "id": "XpBHvBlrxu3g",
        "outputId": "583975b3-02c5-4de0-edce-a95b316f8595"
      },
      "outputs": [],
      "source": [
        "# Method visualization:\n",
        "\n",
        "class Cube:\n",
        "\n",
        "  def __init__(self, color, size):\n",
        "    self.color = color\n",
        "    self.size = size\n",
        "\n",
        "  def bounce(self):\n",
        "    print(\"Boing!\")\n",
        "\n",
        "  def __len__(self):\n",
        "    return self.size\n",
        "\n",
        "\n",
        "print(dir(Cube))"
      ]
    },
    {
      "cell_type": "markdown",
      "metadata": {
        "id": "msXJhPwKyjV5"
      },
      "source": [
        "Como se puede apreciar, hay multitud de métodos mágicos definidos en la clase, a pesar de no haberlos definido manualmente. Esto se debe a que Python genera una plantilla de clase con cada definición de la misma, para evitar posibles errores de compatibilidad.\n",
        "\n",
        "Al final de la lista se puede encontrar el método `bounce` definido con anterioridad."
      ]
    },
    {
      "cell_type": "markdown",
      "metadata": {
        "id": "lgPTvEC83m0W"
      },
      "source": [
        "### Privatización de métodos y atributos\n",
        "\n",
        "Python no tiene niveles de restricción de acceso (otros lenguajes, como Java, sí). Sin embargo, existe cierta funcionalidad y convención que establece cómo definir un atributo o método de una clase para denotar que no debería ser accesible por el usuario.\n",
        "\n",
        "Existen tres niveles de privatización, dependiendo de la cantidad de barras bajas que precedan al nombre del atributo o método que se define:\n",
        "\n",
        "* __Público__: ninguna barra baja (*p.ej.: `bounce`*).\n",
        "* __Protegido__: una barra baja (*p.ej.: `_bounce`*).\n",
        "* __Privado__: dos barras bajas (*p.ej.: `__bounce`*).\n",
        "\n",
        "Los métodos públicos deberían ser accesibles dentro y fuera de la clase. Los métodos protegidos deberían ser accesibles fuera de la clase, pero no utilizados públicamente. Los métodos privados deberían ser utilizados sólo dentro de la clase."
      ]
    },
    {
      "cell_type": "markdown",
      "metadata": {
        "id": "fdV43WEB4gHW"
      },
      "source": [
        "#### *Ejercicio: Privatización de métodos y atributos*\n",
        "\n",
        "Crea una clase llamada Coche que contenga tres atributos: `color`, `license_plate` y `VIN_number`. Los atributos deberán ser público, protegido y privado, respectivamente.\n",
        "\n",
        "Seguidamente, crea una instancia de la clase mediante su constructor e intenta imprimir en pantalla los valores de los tres atributos creados. ¿Qué dificultades observas según incrementa el nivel de privatización?"
      ]
    },
    {
      "cell_type": "code",
      "execution_count": null,
      "metadata": {
        "id": "VBfvVwL84fqP"
      },
      "outputs": [],
      "source": [
        "# Write your code below:\n",
        "\n"
      ]
    },
    {
      "cell_type": "markdown",
      "metadata": {
        "id": "x1W1BVL-PqPQ"
      },
      "source": [
        "## Decoradores\n",
        "\n",
        "Los decoradores son funciones que reciben como argumento otra función. En este curso no se verán en profundidad debido a la complejidad que pueden añadir, pero se utilizarán un par de ejemplos muy básicos de los mismos que permiten estructurar las clases de una manera más organizada."
      ]
    },
    {
      "cell_type": "markdown",
      "metadata": {
        "id": "a8QPiK_QPvPP"
      },
      "source": [
        "### Getters y setters\n",
        "\n",
        "Los _getters_ y _setters_ son métodos especiales destinados a establecer y visualizar los valores de los atributos de una clase. Esto es especialmente útil cuando se quiere permitir al usuario el establecimiento del valor de un atributo pero se quiere controlar ese proceso (por ejemplo, para evitar entradas de tipos de datos incorrectos).\n",
        "\n",
        "Los _getters_ se definen mediante como sigue:"
      ]
    },
    {
      "cell_type": "code",
      "execution_count": null,
      "metadata": {
        "id": "J_oqizb5QP5_"
      },
      "outputs": [],
      "source": [
        "# Getter definition:\n",
        "\n",
        "class Cube:\n",
        "\n",
        "  def __init__(self, color, size):\n",
        "    self._color = color\n",
        "    self._size = size\n",
        "\n",
        "  @property  # This indicates that the method is a getter.\n",
        "  def color(self):  # This defines the getter.\n",
        "    return self._color  # Returns the value of the protected attribute.\n",
        "\n",
        "  def bounce(self):\n",
        "    print(\"Boing!\")\n",
        "\n",
        "  def __len__(self):\n",
        "    return self._size"
      ]
    },
    {
      "cell_type": "markdown",
      "metadata": {
        "id": "w8vShhMQQluw"
      },
      "source": [
        "De un modo similar se definen también los _setters_, pero hay que tener en cuenta que no se puede definir un setter sin que exista un _getter_."
      ]
    },
    {
      "cell_type": "code",
      "execution_count": null,
      "metadata": {
        "id": "I772UxpnQxYN"
      },
      "outputs": [],
      "source": [
        "# Setter definition:\n",
        "\n",
        "class Cube:\n",
        "\n",
        "  def __init__(self, color, size):\n",
        "    self._color = color\n",
        "    self._size = size\n",
        "\n",
        "  @property\n",
        "  def color(self):\n",
        "    return self._color\n",
        "\n",
        "  @color.setter  # This indicates that the method is a setter.\n",
        "  def color(self, value):  # The value argument is the new attribute value.\n",
        "    # Type check:\n",
        "    if not isinstance(value, str):\n",
        "      raise TypeError(\"the value must be a `str` type.\")\n",
        "    \n",
        "    self._color = value  # Assigns the value to the protected attribute.\n",
        "\n",
        "  def bounce(self):\n",
        "    print(\"Boing!\")\n",
        "\n",
        "  def __len__(self):\n",
        "    return self._size"
      ]
    },
    {
      "cell_type": "code",
      "execution_count": null,
      "metadata": {
        "colab": {
          "base_uri": "https://localhost:8080/"
        },
        "id": "abM5--q2UlnX",
        "outputId": "c76ecc1e-1ed9-4176-cbbd-fbb61507d4d3"
      },
      "outputs": [],
      "source": [
        "# Attribute modification:\n",
        "\n",
        "# Class definition:\n",
        "\n",
        "class Cube:\n",
        "\n",
        "  def __init__(self, color, size):\n",
        "    self._color = color\n",
        "    self._size = size\n",
        "\n",
        "  @property\n",
        "  def color(self):\n",
        "    return self._color\n",
        "\n",
        "  @color.setter\n",
        "  def color(self, value):\n",
        "    if not isinstance(value, str):\n",
        "      raise TypeError(\"the value must be a `str` type.\")\n",
        "    \n",
        "    self._color = value\n",
        "\n",
        "# Class instantiation:\n",
        "\n",
        "cube = Cube(\"red\", 21)\n",
        "\n",
        "print(\"Color: \", cube.color)\n",
        "print(\"Size: \", cube._size)\n",
        "\n",
        "cube.color = \"blue\"\n",
        "\n",
        "print(\"Color: \", cube.color)\n",
        "print(\"Size: \", cube._size)"
      ]
    },
    {
      "cell_type": "markdown",
      "metadata": {
        "id": "r-Rz_VPURUv3"
      },
      "source": [
        "# Herencia de clases\n",
        "\n",
        "Dado que Python es un lenguaje orientado a objetos que se basa en las clases, también dispone de las funciones básicas de su paradigma. De hecho, Python permite no sólo la herencia de clases, sino la herencia múltiple. Esto quiere decir que una clase hijo puede tener cero o más clases padre.\n",
        "\n",
        "Generalmente, es una buena práctica definir una clase con estructura de interfaz para que luego otra clase con funcionalidades específicas la herede."
      ]
    },
    {
      "cell_type": "code",
      "execution_count": null,
      "metadata": {
        "colab": {
          "base_uri": "https://localhost:8080/"
        },
        "id": "ueTNYesJRv5X",
        "outputId": "392bad1a-239b-429f-f552-71adcee811a8"
      },
      "outputs": [],
      "source": [
        "# Class inheritance:\n",
        "\n",
        "# Parent class 1:\n",
        "\n",
        "class Human:\n",
        "  \n",
        "  HOME_PLANET = \"Earth\"\n",
        "  HOME_GALAXY = \"Milky Way\"\n",
        "\n",
        "# Parent class 2:\n",
        "\n",
        "class Worker:\n",
        "  \n",
        "  def __init__(self, salary):\n",
        "    self.salary = salary\n",
        "\n",
        "  @property\n",
        "  def salary(self):\n",
        "    return self._salary\n",
        "\n",
        "  @salary.setter\n",
        "  def salary(self, value):\n",
        "    if not isinstance(value, (int, float)):\n",
        "      raise TypeError(\"the salary must be a float or integer.\")\n",
        "\n",
        "    self._salary = value\n",
        "\n",
        "# Child class:\n",
        "\n",
        "class AverageSpanishPerson(Human, Worker):\n",
        "  def __init__(self, name, age, mood, salary):\n",
        "    self.name = name\n",
        "    self.age = age\n",
        "    self.mood = mood\n",
        "    super().__init__(salary)\n",
        "\n",
        "  @property\n",
        "  def name(self):\n",
        "    return self._name\n",
        "\n",
        "  @name.setter\n",
        "  def name(self, value):\n",
        "    if not isinstance(value, str):\n",
        "      raise TypeError(\"name must be a string.\")\n",
        "\n",
        "    self._name = value\n",
        "\n",
        "  @property\n",
        "  def age(self):\n",
        "    return self._age\n",
        "\n",
        "  @age.setter\n",
        "  def age(self, value):\n",
        "    if not isinstance(value, int):\n",
        "      raise TypeError(\"age must be an integer.\")\n",
        "\n",
        "    self._age = value\n",
        "\n",
        "  @property\n",
        "  def mood(self):\n",
        "    return self._mood\n",
        "\n",
        "  @mood.setter\n",
        "  def mood(self, value):\n",
        "    if not isinstance(value, str):\n",
        "      raise TypeError(\"mood must be a string.\")\n",
        "    \n",
        "    self._mood = value\n",
        "\n",
        "# Class instantiation:\n",
        "\n",
        "lete = AverageSpanishPerson(\"Lete\", 20, \"Stressed\", 0)\n",
        "print(\"Name: \", lete.name)\n",
        "print(\"Age: \", lete.age)\n",
        "print(\"Mood: \", lete.mood)\n",
        "print(\"Salary: \", lete.salary)\n",
        "print(\"Home planet: \", lete.HOME_PLANET)\n",
        "print(\"Home galaxy: \", lete.HOME_GALAXY)"
      ]
    },
    {
      "attachments": {},
      "cell_type": "markdown",
      "metadata": {
        "id": "4x2sVx3jVD1N"
      },
      "source": [
        "# _Exercise final_\n",
        "\n",
        "Crea una clase para manejar números complejos Esta ha de permitir suma, resta, multiplicacion, division, igualdad y ha de poder convertise en cadena con el formato \"a + bi\". Ten en cuenta que `i**2 = -1`."
      ]
    },
    {
      "cell_type": "code",
      "execution_count": null,
      "metadata": {
        "id": "tmgKK2CqVN1-"
      },
      "outputs": [],
      "source": [
        "# Write your code below:\n",
        "\n"
      ]
    }
  ],
  "metadata": {
    "colab": {
      "collapsed_sections": [],
      "provenance": []
    },
    "kernelspec": {
      "display_name": ".venv",
      "language": "python",
      "name": "python3"
    },
    "language_info": {
      "codemirror_mode": {
        "name": "ipython",
        "version": 3
      },
      "file_extension": ".py",
      "mimetype": "text/x-python",
      "name": "python",
      "nbconvert_exporter": "python",
      "pygments_lexer": "ipython3",
      "version": "3.11.1"
    },
    "vscode": {
      "interpreter": {
        "hash": "edb3f8401898146638121a13b0247bbb0e9c0cce851d580080f4cb1d49fc2b60"
      }
    }
  },
  "nbformat": 4,
  "nbformat_minor": 0
}
