{
  "cells": [
    {
      "attachments": {},
      "cell_type": "markdown",
      "metadata": {
        "id": "jgM44_91PJ6u"
      },
      "source": [
        "## Conditional statements: which path does the program follow?\n",
        "\n",
        "Conditional statements are instructions that, depending on a given condition, can generate alternative execution flows for the program, altering its linearity."
      ]
    },
    {
      "attachments": {},
      "cell_type": "markdown",
      "metadata": {
        "id": "CZ-ETOLYPT4y"
      },
      "source": [
        "## Simple conditional\n",
        "\n",
        "The simple conditional (*if*) consists of a single instruction that determines if a condition is true. If it is, it executes the code it contains."
      ]
    },
    {
      "cell_type": "code",
      "execution_count": null,
      "metadata": {
        "id": "TFY1IcfdPd37"
      },
      "outputs": [],
      "source": [
        "# If statement:\n",
        "\n",
        "variable = 2\n",
        "\n",
        "if variable == 2:\n",
        "  print(\"The value of the variable is 2!\")"
      ]
    },
    {
      "attachments": {},
      "cell_type": "markdown",
      "metadata": {
        "id": "xQhhJaLuPkl2"
      },
      "source": [
        "## Closed conditional\n",
        "\n",
        "The closed conditional (*if-else*) consists of two instructions: the first one determines if a condition is true, and if it is, it executes the code block associated with it. The second one executes the code block associated with it in case the condition of the first one is not true."
      ]
    },
    {
      "cell_type": "code",
      "execution_count": null,
      "metadata": {
        "id": "nDAMug-KP79G"
      },
      "outputs": [],
      "source": [
        "# If-else:\n",
        "\n",
        "variable = 3\n",
        "\n",
        "if variable == 2:\n",
        "  print(\"The value of the variable is 2!\")\n",
        "  \n",
        "else:\n",
        "  print(\"The value of the variable is not 2!\")"
      ]
    },
    {
      "attachments": {},
      "cell_type": "markdown",
      "metadata": {
        "id": "_IKeLXMdQEF1"
      },
      "source": [
        "## Compound closed conditional\n",
        "\n",
        "The compound closed conditional (*if-elif-else*) consists of a series of instructions, headed by an `if` that evaluates if a given condition is true, followed by a series of `elif` instructions that evaluate if a condition is true only when none of the previous ones has been. Finally, it contains an `else` that executes a code block in case none of the conditions has been true."
      ]
    },
    {
      "cell_type": "code",
      "execution_count": null,
      "metadata": {
        "colab": {
          "base_uri": "https://localhost:8080/"
        },
        "id": "2iB6piNTRinW",
        "outputId": "f91854fa-5c52-43f8-c8ad-12f34c25d18d"
      },
      "outputs": [],
      "source": [
        "# If-elif-else:\n",
        "\n",
        "variable = 4\n",
        "\n",
        "if variable < 0:\n",
        "  print(\"The value is negative!\")\n",
        "\n",
        "elif variable >= 1:  # This is True and it has been executed.\n",
        "  print(\"The value is greater or equal to 1!\")\n",
        "\n",
        "elif variable == 4:  # This is True, yet it has not been executed.\n",
        "  print(\"The value is 4\")\n",
        "  \n",
        "else:\n",
        "  print(\"The value must be located between 0 and 1...\")"
      ]
    },
    {
      "attachments": {},
      "cell_type": "markdown",
      "metadata": {
        "id": "LloG-xx5SQGC"
      },
      "source": [
        "### Observation: compound closed conditional vs. consecutive simple conditionals\n",
        "\n",
        "It is interesting to observe that the `elif` instruction stops considering subsequent evaluations if its condition is met. This does not happen with consecutive simple conditionals, as can be observed in the following example:"
      ]
    },
    {
      "cell_type": "code",
      "execution_count": null,
      "metadata": {
        "colab": {
          "base_uri": "https://localhost:8080/"
        },
        "id": "V2RH6FADSDII",
        "outputId": "59816938-1fe8-41df-e21d-9476d2ebe9f9"
      },
      "outputs": [],
      "source": [
        "# Consecutive ifs:\n",
        "\n",
        "variable = 4\n",
        "\n",
        "if variable < 0:\n",
        "  print(\"The value is negative!\")\n",
        "\n",
        "if variable >= 1:  # This is True and it has been executed.\n",
        "  print(\"The value is greater or equal to 1!\")\n",
        "  \n",
        "if variable == 4:  # This is True and it has been executed.\n",
        "  print(\"The value is 4\")"
      ]
    },
    {
      "attachments": {},
      "cell_type": "markdown",
      "metadata": {},
      "source": [
        "# Navigation\n",
        "\n",
        "- **Previous lesson**: [Operators](./operators.ipynb)\n",
        "- **Next lesson**: [Iteration structures](./iteration-structures.ipynb)"
      ]
    }
  ],
  "metadata": {
    "colab": {
      "collapsed_sections": [],
      "provenance": []
    },
    "kernelspec": {
      "display_name": ".venv",
      "language": "python",
      "name": "python3"
    },
    "language_info": {
      "codemirror_mode": {
        "name": "ipython",
        "version": 3
      },
      "file_extension": ".py",
      "mimetype": "text/x-python",
      "name": "python",
      "nbconvert_exporter": "python",
      "pygments_lexer": "ipython3",
      "version": "3.11.1"
    },
    "vscode": {
      "interpreter": {
        "hash": "edb3f8401898146638121a13b0247bbb0e9c0cce851d580080f4cb1d49fc2b60"
      }
    }
  },
  "nbformat": 4,
  "nbformat_minor": 0
}
