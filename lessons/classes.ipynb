{
  "cells": [
    {
      "cell_type": "markdown",
      "metadata": {
        "id": "1qhIr4_eIcWO"
      },
      "source": [
        "# Clases y objetos\n",
        "\n",
        "**Instancia**: generación individual y específica de una clase.\n",
        "\n",
        "Las clases son el elemento principal de la programación con Python. Los objetos son instancias de una clase, pudiendo tener valores específicos para ciertos componentes de la misma, que permiten diferenciar objetos distintos.\n",
        "\n",
        "Realmente, cada elemento en Python es un objeto (¡incluso las propias clases!), por lo que la explicación siguiente puede ofrecer mucha claridad sobre el funcionamiento del lenguaje."
      ]
    },
    {
      "cell_type": "markdown",
      "metadata": {
        "id": "BtYd_VPjsdfL"
      },
      "source": [
        "## Los elementos inanimados: atributos\n",
        "\n",
        "Los atributos son variables ligadas a una instancia de una clase. Funcionan como cualquier variable normal, sólo que contienen una referencia al propio objeto que permite operar de manera interna con ellos.\n",
        "\n",
        "Esta referencia es, concretamente, la palabra `self`, que en inglés significa \"uno mismo\" o \"sobre sí mismo\". Como se puede deducir, dicha referencia indica que todo lo que vaya ligado a ella estará relacionado internamente con la clase a la que señala."
      ]
    },
    {
      "cell_type": "markdown",
      "metadata": {
        "id": "ZAlj9cKHIfsG"
      },
      "source": [
        "## Los elementos animados: métodos\n",
        "\n",
        "Los métodos de una clase son funciones normales y corrientes que pueden actuar de manera interna en la propia clase, quedando su acceso restringido desde fuera de la misma."
      ]
    },
    {
      "cell_type": "markdown",
      "metadata": {
        "id": "ACS12vgvswhM"
      },
      "source": [
        "### La base: el constructor\n",
        "\n",
        "El constructor es una función o método fundamental para cada clase. Permite generar instancias de la misma con valores específicos que se le podrán pasar como argumentos.\n",
        "\n",
        "Que no os asuste el nombre, es una función muy sencilla con un comportamiento _super_ predecible."
      ]
    },
    {
      "cell_type": "code",
      "execution_count": null,
      "metadata": {
        "colab": {
          "base_uri": "https://localhost:8080/"
        },
        "id": "0gJXXbcAtNzF",
        "outputId": "43cf066b-4563-41ed-b9ae-3f4ae7515ada"
      },
      "outputs": [],
      "source": [
        "# Basic class example 1:\n",
        "\n",
        "# Class definition:\n",
        "\n",
        "class Cube:\n",
        "\n",
        "  def __init__(self):  # Constructor method.\n",
        "    self.color = \"red\"\n",
        "    self.size = 3\n",
        "\n",
        "# Class instantiation:\n",
        "\n",
        "my_cube = Cube()  # This calls the constructor method.\n",
        "\n",
        "print(Cube)\n",
        "print(my_cube)\n",
        "\n",
        "print(\"Cube color: \", my_cube.color)\n",
        "print(\"Cube size: \", my_cube.size)"
      ]
    },
    {
      "cell_type": "markdown",
      "metadata": {
        "id": "-Gi7FPnNtsr0"
      },
      "source": [
        "En este ejemplo, sin embargo, se puede apreciar que aunque se creen diversos objetos a partir de la clase `Car`, todos ellos tendrán el color rojo y 5 puertas. Conviene entonces añadir algo de funcionalidad que permita personalizar el objeto como tal."
      ]
    },
    {
      "cell_type": "code",
      "execution_count": null,
      "metadata": {
        "colab": {
          "base_uri": "https://localhost:8080/"
        },
        "id": "avetJ-_xt5kc",
        "outputId": "fb3b6bba-c77a-4fdd-8111-baecd522de5e"
      },
      "outputs": [],
      "source": [
        "# Basic class example 2:\n",
        "\n",
        "class Cube:\n",
        "\n",
        "  def __init__(self, color, size):\n",
        "    self.color = color\n",
        "    self.size = size\n",
        "\n",
        "\n",
        "my_cube = Cube(\"blue\", 3)\n",
        "\n",
        "print(\"Cube color: \", my_cube.color)\n",
        "print(\"Cube size: \", my_cube.size)"
      ]
    },
    {
      "cell_type": "markdown",
      "metadata": {
        "id": "q2uvqKvhJLLV"
      },
      "source": [
        "### Métodos propios\n",
        "\n",
        "Los métodos propios son todas aquellas funcionalidades implementadas por el usuario de manera manual, que contengan una rutina personalizada.\n",
        "\n",
        "Una vez más, siguen siendo métodos, por lo que la definición de la función no es nada del otro mundo.\n",
        "\n",
        "Vamos a añadir una función que haga rebotar al cubo creado anteriormente:"
      ]
    },
    {
      "cell_type": "code",
      "execution_count": null,
      "metadata": {
        "colab": {
          "base_uri": "https://localhost:8080/"
        },
        "id": "fu8Yupf7vC81",
        "outputId": "c680ee07-b7ca-4b64-cec6-2d0f7056b142"
      },
      "outputs": [],
      "source": [
        "# Basic class example 3:\n",
        "\n",
        "class Cube:\n",
        "\n",
        "  def __init__(self, color, size):\n",
        "    self.color = color\n",
        "    self.size = size\n",
        "\n",
        "  def bounce(self):  # Custom method.\n",
        "    print(\"Boing!\")\n",
        "\n",
        "\n",
        "my_cube = Cube(\"blue\", 3)\n",
        "\n",
        "print(\"Cube color: \", my_cube.color)\n",
        "print(\"Cube size: \", my_cube.size)\n",
        "\n",
        "for _ in range(3):\n",
        "  my_cube.bounce()"
      ]
    },
    {
      "cell_type": "markdown",
      "metadata": {
        "id": "POOEAcmfJQGV"
      },
      "source": [
        "### Métodos mágicos\n",
        "\n",
        "Los métodos mágicos son rutinas especiales que permiten a la clase interactuar con estructuras básicas de Python, como pueden ser la función `len`, las operaciones sobre elementos e incluso su representación en pantalla.\n",
        "\n",
        "Dichos métodos se definen encapsulados entre dos barras bajas (`__`). Si lo estais pensando... efectivamente: ¡el constructor es un método mágico!\n",
        "\n",
        "Vamos a añadirle al cubo la posibilidad de operar correctamente con la función estándar `len`: "
      ]
    },
    {
      "cell_type": "code",
      "execution_count": null,
      "metadata": {
        "colab": {
          "base_uri": "https://localhost:8080/"
        },
        "id": "miiHLu9Cv4En",
        "outputId": "a9a50765-d73b-456e-e73e-3e2d6480c710"
      },
      "outputs": [],
      "source": [
        "# Basic class example 4:\n",
        "\n",
        "class Cube:\n",
        "\n",
        "  def __init__(self, color, size):\n",
        "    self.color = color\n",
        "    self.size = size\n",
        "\n",
        "  def bounce(self):\n",
        "    print(\"Boing!\")\n",
        "\n",
        "  def __len__(self):  # Magic method.\n",
        "    return self.size\n",
        "\n",
        "\n",
        "my_cube = Cube(\"blue\", 3)\n",
        "\n",
        "print(\"Cube color: \", my_cube.color)\n",
        "print(\"Cube size: \", len(my_cube))  # New method call."
      ]
    },
    {
      "cell_type": "markdown",
      "metadata": {
        "id": "T-nW8msnJTGF"
      },
      "source": [
        "## Visibilidad de métodos\n",
        "\n",
        "Python permite visualizar una lista de métodos definidos para cada clase. La función utilizada para ello es `dir`. Se le pasa como argumento la clase en cuestión (no el objeto)."
      ]
    },
    {
      "cell_type": "code",
      "execution_count": null,
      "metadata": {
        "colab": {
          "base_uri": "https://localhost:8080/"
        },
        "id": "XpBHvBlrxu3g",
        "outputId": "583975b3-02c5-4de0-edce-a95b316f8595"
      },
      "outputs": [],
      "source": [
        "# Method visualization:\n",
        "\n",
        "class Cube:\n",
        "\n",
        "  def __init__(self, color, size):\n",
        "    self.color = color\n",
        "    self.size = size\n",
        "\n",
        "  def bounce(self):\n",
        "    print(\"Boing!\")\n",
        "\n",
        "  def __len__(self):\n",
        "    return self.size\n",
        "\n",
        "\n",
        "print(dir(Cube))"
      ]
    },
    {
      "cell_type": "markdown",
      "metadata": {
        "id": "msXJhPwKyjV5"
      },
      "source": [
        "Como se puede apreciar, hay multitud de métodos mágicos definidos en la clase, a pesar de no haberlos definido manualmente. Esto se debe a que Python genera una plantilla de clase con cada definición de la misma, para evitar posibles errores de compatibilidad.\n",
        "\n",
        "Al final de la lista se puede encontrar el método `bounce` definido con anterioridad."
      ]
    },
    {
      "cell_type": "markdown",
      "metadata": {
        "id": "lgPTvEC83m0W"
      },
      "source": [
        "### Privatización de métodos y atributos\n",
        "\n",
        "Python no tiene niveles de restricción de acceso (otros lenguajes, como Java, sí). Sin embargo, existe cierta funcionalidad y convención que establece cómo definir un atributo o método de una clase para denotar que no debería ser accesible por el usuario.\n",
        "\n",
        "Existen tres niveles de privatización, dependiendo de la cantidad de barras bajas que precedan al nombre del atributo o método que se define:\n",
        "\n",
        "* __Público__: ninguna barra baja (*p.ej.: `bounce`*).\n",
        "* __Protegido__: una barra baja (*p.ej.: `_bounce`*).\n",
        "* __Privado__: dos barras bajas (*p.ej.: `__bounce`*).\n",
        "\n",
        "Los métodos públicos deberían ser accesibles dentro y fuera de la clase. Los métodos protegidos deberían ser accesibles fuera de la clase, pero no utilizados públicamente. Los métodos privados deberían ser utilizados sólo dentro de la clase."
      ]
    },
    {
      "cell_type": "markdown",
      "metadata": {
        "id": "fdV43WEB4gHW"
      },
      "source": [
        "#### *Ejercicio: Privatización de métodos y atributos*\n",
        "\n",
        "Crea una clase llamada Coche que contenga tres atributos: `color`, `license_plate` y `VIN_number`. Los atributos deberán ser público, protegido y privado, respectivamente.\n",
        "\n",
        "Seguidamente, crea una instancia de la clase mediante su constructor e intenta imprimir en pantalla los valores de los tres atributos creados. ¿Qué dificultades observas según incrementa el nivel de privatización?"
      ]
    },
    {
      "cell_type": "code",
      "execution_count": null,
      "metadata": {
        "id": "VBfvVwL84fqP"
      },
      "outputs": [],
      "source": [
        "# Write your code below:\n",
        "\n"
      ]
    },
    {
      "cell_type": "markdown",
      "metadata": {
        "id": "x1W1BVL-PqPQ"
      },
      "source": [
        "## Decoradores\n",
        "\n",
        "Los decoradores son funciones que reciben como argumento otra función. En este curso no se verán en profundidad debido a la complejidad que pueden añadir, pero se utilizarán un par de ejemplos muy básicos de los mismos que permiten estructurar las clases de una manera más organizada."
      ]
    },
    {
      "cell_type": "markdown",
      "metadata": {
        "id": "a8QPiK_QPvPP"
      },
      "source": [
        "### Getters y setters\n",
        "\n",
        "Los _getters_ y _setters_ son métodos especiales destinados a establecer y visualizar los valores de los atributos de una clase. Esto es especialmente útil cuando se quiere permitir al usuario el establecimiento del valor de un atributo pero se quiere controlar ese proceso (por ejemplo, para evitar entradas de tipos de datos incorrectos).\n",
        "\n",
        "Los _getters_ se definen mediante como sigue:"
      ]
    },
    {
      "cell_type": "code",
      "execution_count": null,
      "metadata": {
        "id": "J_oqizb5QP5_"
      },
      "outputs": [],
      "source": [
        "# Getter definition:\n",
        "\n",
        "class Cube:\n",
        "\n",
        "  def __init__(self, color, size):\n",
        "    self._color = color\n",
        "    self._size = size\n",
        "\n",
        "  @property  # This indicates that the method is a getter.\n",
        "  def color(self):  # This defines the getter.\n",
        "    return self._color  # Returns the value of the protected attribute.\n",
        "\n",
        "  def bounce(self):\n",
        "    print(\"Boing!\")\n",
        "\n",
        "  def __len__(self):\n",
        "    return self._size"
      ]
    },
    {
      "cell_type": "markdown",
      "metadata": {
        "id": "w8vShhMQQluw"
      },
      "source": [
        "De un modo similar se definen también los _setters_, pero hay que tener en cuenta que no se puede definir un setter sin que exista un _getter_."
      ]
    },
    {
      "cell_type": "code",
      "execution_count": null,
      "metadata": {
        "id": "I772UxpnQxYN"
      },
      "outputs": [],
      "source": [
        "# Setter definition:\n",
        "\n",
        "class Cube:\n",
        "\n",
        "  def __init__(self, color, size):\n",
        "    self._color = color\n",
        "    self._size = size\n",
        "\n",
        "  @property\n",
        "  def color(self):\n",
        "    return self._color\n",
        "\n",
        "  @color.setter  # This indicates that the method is a setter.\n",
        "  def color(self, value):  # The value argument is the new attribute value.\n",
        "    # Type check:\n",
        "    if not isinstance(value, str):\n",
        "      raise TypeError(\"the value must be a `str` type.\")\n",
        "    \n",
        "    self._color = value  # Assigns the value to the protected attribute.\n",
        "\n",
        "  def bounce(self):\n",
        "    print(\"Boing!\")\n",
        "\n",
        "  def __len__(self):\n",
        "    return self._size"
      ]
    },
    {
      "cell_type": "code",
      "execution_count": null,
      "metadata": {
        "colab": {
          "base_uri": "https://localhost:8080/"
        },
        "id": "abM5--q2UlnX",
        "outputId": "c76ecc1e-1ed9-4176-cbbd-fbb61507d4d3"
      },
      "outputs": [],
      "source": [
        "# Attribute modification:\n",
        "\n",
        "# Class definition:\n",
        "\n",
        "class Cube:\n",
        "\n",
        "  def __init__(self, color, size):\n",
        "    self._color = color\n",
        "    self._size = size\n",
        "\n",
        "  @property\n",
        "  def color(self):\n",
        "    return self._color\n",
        "\n",
        "  @color.setter\n",
        "  def color(self, value):\n",
        "    if not isinstance(value, str):\n",
        "      raise TypeError(\"the value must be a `str` type.\")\n",
        "    \n",
        "    self._color = value\n",
        "\n",
        "# Class instantiation:\n",
        "\n",
        "cube = Cube(\"red\", 21)\n",
        "\n",
        "print(\"Color: \", cube.color)\n",
        "print(\"Size: \", cube._size)\n",
        "\n",
        "cube.color = \"blue\"\n",
        "\n",
        "print(\"Color: \", cube.color)\n",
        "print(\"Size: \", cube._size)"
      ]
    },
    {
      "cell_type": "markdown",
      "metadata": {
        "id": "r-Rz_VPURUv3"
      },
      "source": [
        "# Herencia de clases\n",
        "\n",
        "Dado que Python es un lenguaje orientado a objetos que se basa en las clases, también dispone de las funciones básicas de su paradigma. De hecho, Python permite no sólo la herencia de clases, sino la herencia múltiple. Esto quiere decir que una clase hijo puede tener cero o más clases padre.\n",
        "\n",
        "Generalmente, es una buena práctica definir una clase con estructura de interfaz para que luego otra clase con funcionalidades específicas la herede."
      ]
    },
    {
      "cell_type": "code",
      "execution_count": null,
      "metadata": {
        "colab": {
          "base_uri": "https://localhost:8080/"
        },
        "id": "ueTNYesJRv5X",
        "outputId": "392bad1a-239b-429f-f552-71adcee811a8"
      },
      "outputs": [],
      "source": [
        "# Class inheritance:\n",
        "\n",
        "# Parent class 1:\n",
        "\n",
        "class Human:\n",
        "  \n",
        "  HOME_PLANET = \"Earth\"\n",
        "  HOME_GALAXY = \"Milky Way\"\n",
        "\n",
        "# Parent class 2:\n",
        "\n",
        "class Worker:\n",
        "  \n",
        "  def __init__(self, salary):\n",
        "    self.salary = salary\n",
        "\n",
        "  @property\n",
        "  def salary(self):\n",
        "    return self._salary\n",
        "\n",
        "  @salary.setter\n",
        "  def salary(self, value):\n",
        "    if not isinstance(value, (int, float)):\n",
        "      raise TypeError(\"the salary must be a float or integer.\")\n",
        "\n",
        "    self._salary = value\n",
        "\n",
        "# Child class:\n",
        "\n",
        "class AverageSpanishPerson(Human, Worker):\n",
        "  def __init__(self, name, age, mood, salary):\n",
        "    self.name = name\n",
        "    self.age = age\n",
        "    self.mood = mood\n",
        "    super().__init__(salary)\n",
        "\n",
        "  @property\n",
        "  def name(self):\n",
        "    return self._name\n",
        "\n",
        "  @name.setter\n",
        "  def name(self, value):\n",
        "    if not isinstance(value, str):\n",
        "      raise TypeError(\"name must be a string.\")\n",
        "\n",
        "    self._name = value\n",
        "\n",
        "  @property\n",
        "  def age(self):\n",
        "    return self._age\n",
        "\n",
        "  @age.setter\n",
        "  def age(self, value):\n",
        "    if not isinstance(value, int):\n",
        "      raise TypeError(\"age must be an integer.\")\n",
        "\n",
        "    self._age = value\n",
        "\n",
        "  @property\n",
        "  def mood(self):\n",
        "    return self._mood\n",
        "\n",
        "  @mood.setter\n",
        "  def mood(self, value):\n",
        "    if not isinstance(value, str):\n",
        "      raise TypeError(\"mood must be a string.\")\n",
        "    \n",
        "    self._mood = value\n",
        "\n",
        "# Class instantiation:\n",
        "\n",
        "lete = AverageSpanishPerson(\"Lete\", 20, \"Stressed\", 0)\n",
        "print(\"Name: \", lete.name)\n",
        "print(\"Age: \", lete.age)\n",
        "print(\"Mood: \", lete.mood)\n",
        "print(\"Salary: \", lete.salary)\n",
        "print(\"Home planet: \", lete.HOME_PLANET)\n",
        "print(\"Home galaxy: \", lete.HOME_GALAXY)"
      ]
    },
    {
      "attachments": {},
      "cell_type": "markdown",
      "metadata": {
        "id": "4x2sVx3jVD1N"
      },
      "source": [
        "# _Exercise final_\n",
        "\n",
        "Crea una clase para manejar números complejos Esta ha de permitir suma, resta, multiplicacion, division, igualdad y ha de poder convertise en cadena con el formato \"a + bi\". Ten en cuenta que `i**2 = -1`."
      ]
    },
    {
      "cell_type": "code",
      "execution_count": null,
      "metadata": {
        "id": "tmgKK2CqVN1-"
      },
      "outputs": [],
      "source": [
        "# Write your code below:\n",
        "\n"
      ]
    },
    {
      "attachments": {},
      "cell_type": "markdown",
      "metadata": {},
      "source": [
        "# Navigation\n",
        "\n",
        "- **Previous lesson**: [Functions](./functions.ipynb)\n",
        "- **Next lesson**: [TODO](./TODO.ipynb)"
      ]
    }
  ],
  "metadata": {
    "colab": {
      "collapsed_sections": [],
      "provenance": []
    },
    "kernelspec": {
      "display_name": ".venv",
      "language": "python",
      "name": "python3"
    },
    "language_info": {
      "codemirror_mode": {
        "name": "ipython",
        "version": 3
      },
      "file_extension": ".py",
      "mimetype": "text/x-python",
      "name": "python",
      "nbconvert_exporter": "python",
      "pygments_lexer": "ipython3",
      "version": "3.11.1"
    },
    "vscode": {
      "interpreter": {
        "hash": "edb3f8401898146638121a13b0247bbb0e9c0cce851d580080f4cb1d49fc2b60"
      }
    }
  },
  "nbformat": 4,
  "nbformat_minor": 0
}
